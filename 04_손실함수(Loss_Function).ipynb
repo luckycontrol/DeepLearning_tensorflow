{
  "nbformat": 4,
  "nbformat_minor": 0,
  "metadata": {
    "colab": {
      "name": "04. 손실함수(Loss Function).ipynb",
      "provenance": [],
      "collapsed_sections": [],
      "authorship_tag": "ABX9TyOZBDi26O8h98H4QyzyRzQk",
      "include_colab_link": true
    },
    "kernelspec": {
      "name": "python3",
      "display_name": "Python 3"
    }
  },
  "cells": [
    {
      "cell_type": "markdown",
      "metadata": {
        "id": "view-in-github",
        "colab_type": "text"
      },
      "source": [
        "<a href=\"https://colab.research.google.com/github/luckycontrol/DeepLearning_tensorflow/blob/main/04_%EC%86%90%EC%8B%A4%ED%95%A8%EC%88%98(Loss_Function).ipynb\" target=\"_parent\"><img src=\"https://colab.research.google.com/assets/colab-badge.svg\" alt=\"Open In Colab\"/></a>"
      ]
    },
    {
      "cell_type": "markdown",
      "metadata": {
        "id": "yjor9QBXNmx9"
      },
      "source": [
        "손실함수란 신경망이 얼마나 맞추지 못했냐 라는 지표이다.\n",
        "- 즉 낮을수록 좋은 값.\n",
        "- 손실함수에 영향을 미치는 것은 가중치(W)와 편향(B)\n",
        "- 신경망의 학습이란 손실함수의 값이 낮은 가중치와 편향을 구하는 것."
      ]
    },
    {
      "cell_type": "markdown",
      "metadata": {
        "id": "jCtSQfDVOYeT"
      },
      "source": [
        "# MSE\n",
        " 평균 제곱 오차"
      ]
    },
    {
      "cell_type": "code",
      "metadata": {
        "id": "b9JD1vh1NirI"
      },
      "source": [
        "import numpy as np\n",
        "\n",
        "# 모델이 2로 예측 했을 확률이 0.6\n",
        "y = [0.1, 0.05, 0.6, 0.0, 0.05, 0.1, 0.0, 0.1, 0.0, 0.0]\n",
        "\n",
        "# 실제 정답은 2이다.\n",
        "t = [0, 0, 1, 0, 0, 0, 0, 0, 0, 0]"
      ],
      "execution_count": null,
      "outputs": []
    },
    {
      "cell_type": "code",
      "metadata": {
        "id": "IsRoz4spOjUm"
      },
      "source": [
        "def mean_squard_error(y, t):\n",
        "  return 0.5 * np.sum((y - t) ** 2)"
      ],
      "execution_count": null,
      "outputs": []
    },
    {
      "cell_type": "code",
      "metadata": {
        "id": "AQVT12zaPNpM",
        "outputId": "29794d89-4b57-4f0b-fb26-f433d8252e66",
        "colab": {
          "base_uri": "https://localhost:8080/"
        }
      },
      "source": [
        "print(\"MSE: {}\".format(mean_squard_error(np.array(y), np.array(t))))"
      ],
      "execution_count": null,
      "outputs": [
        {
          "output_type": "stream",
          "text": [
            "MSE: 0.09750000000000003\n"
          ],
          "name": "stdout"
        }
      ]
    },
    {
      "cell_type": "code",
      "metadata": {
        "id": "aWMuYZIZPWaM"
      },
      "source": [
        "# 모델이 7로 예측할 확률이 0.6\n",
        "y_error = [0.1, 0.05, 0.1, 0.0, 0.05, 0.1, 0.0, 0.6, 0.0, 0.0]"
      ],
      "execution_count": null,
      "outputs": []
    },
    {
      "cell_type": "code",
      "metadata": {
        "id": "bnVx-c0GPvAJ",
        "outputId": "8a7fc3b4-52ff-4060-852b-ab31d5cebc75",
        "colab": {
          "base_uri": "https://localhost:8080/"
        }
      },
      "source": [
        "print(\"MSE: {}\".format(mean_squard_error(np.array(y_error), np.array(t))))"
      ],
      "execution_count": null,
      "outputs": [
        {
          "output_type": "stream",
          "text": [
            "MSE: 0.5975\n"
          ],
          "name": "stdout"
        }
      ]
    },
    {
      "cell_type": "markdown",
      "metadata": {
        "id": "pQPRjfdPQcsy"
      },
      "source": [
        "# CEE ( Cross Entropy Error )\n",
        "- 교차 엔트로피 에러"
      ]
    },
    {
      "cell_type": "code",
      "metadata": {
        "id": "FVe_3r4OP5ds"
      },
      "source": [
        "# 로그 공부.\n",
        "\n",
        "def cross_entropy_error(y, t):\n",
        "  delta = 1e-7 # 아주 작은 값\n",
        "  return -np.sum(t * np.log(y + delta)) # 델타를 더해주는 이유 : 로그가 0이되면 무한대를 의미. 무한대로 발산하지 않도록 만들어주기위해 아주 작은 값을 더해준다."
      ],
      "execution_count": null,
      "outputs": []
    },
    {
      "cell_type": "code",
      "metadata": {
        "id": "G68_tcH6Q6VS",
        "outputId": "378464c3-ed08-4a0e-c07d-a13a29ad816d",
        "colab": {
          "base_uri": "https://localhost:8080/"
        }
      },
      "source": [
        "# 모델이 2로 예측 했을 확률이 0.6\n",
        "y = [0.1, 0.05, 0.6, 0.0, 0.05, 0.1, 0.0, 0.1, 0.0, 0.0]\n",
        "\n",
        "# 실제 정답은 2이다.\n",
        "t = [0, 0, 1, 0, 0, 0, 0, 0, 0, 0]\n",
        "\n",
        "# 모델이 7로 예측할 확률이 0.6\n",
        "y_error = [0.1, 0.05, 0.1, 0.0, 0.05, 0.1, 0.0, 0.6, 0.0, 0.0]\n",
        "\n",
        "print(\"y의 CES: {:.3f}\".format(cross_entropy_error(np.array(y), np.array(t))))\n",
        "print(\"y의 CES: {:.3f}\".format(cross_entropy_error(np.array(y_error), np.array(t))))"
      ],
      "execution_count": null,
      "outputs": [
        {
          "output_type": "stream",
          "text": [
            "y의 CES: 0.511\n",
            "y의 CES: 2.303\n"
          ],
          "name": "stdout"
        }
      ]
    },
    {
      "cell_type": "markdown",
      "metadata": {
        "id": "otzhf-OiVsfb"
      },
      "source": [
        "# 미니배치"
      ]
    },
    {
      "cell_type": "code",
      "metadata": {
        "id": "2JdCWdTMSFSI",
        "outputId": "5e7c003d-a784-4f1f-8243-65224a33d6d9",
        "colab": {
          "base_uri": "https://localhost:8080/"
        }
      },
      "source": [
        "from tensorflow.keras import datasets\n",
        "\n",
        "mnist = datasets.mnist\n",
        "\n",
        "(x_train, y_train), (x_test, y_test) = mnist.load_data()"
      ],
      "execution_count": null,
      "outputs": [
        {
          "output_type": "stream",
          "text": [
            "Downloading data from https://storage.googleapis.com/tensorflow/tf-keras-datasets/mnist.npz\n",
            "11493376/11490434 [==============================] - 0s 0us/step\n"
          ],
          "name": "stdout"
        }
      ]
    },
    {
      "cell_type": "code",
      "metadata": {
        "id": "zv8JogbrV4r0",
        "outputId": "98cddf41-79a6-419f-80a8-63fc396534af",
        "colab": {
          "base_uri": "https://localhost:8080/"
        }
      },
      "source": [
        "x_train[0].shape"
      ],
      "execution_count": null,
      "outputs": [
        {
          "output_type": "execute_result",
          "data": {
            "text/plain": [
              "(28, 28)"
            ]
          },
          "metadata": {
            "tags": []
          },
          "execution_count": 19
        }
      ]
    },
    {
      "cell_type": "code",
      "metadata": {
        "id": "X_mKdv6vV6mK",
        "outputId": "1d9ecc9a-b8d1-44bc-f787-cda2bbe32723",
        "colab": {
          "base_uri": "https://localhost:8080/"
        }
      },
      "source": [
        "y_train.shape"
      ],
      "execution_count": null,
      "outputs": [
        {
          "output_type": "execute_result",
          "data": {
            "text/plain": [
              "(60000,)"
            ]
          },
          "metadata": {
            "tags": []
          },
          "execution_count": 21
        }
      ]
    },
    {
      "cell_type": "markdown",
      "metadata": {
        "id": "ooUhDENZWAqa"
      },
      "source": [
        "y_train은 OneHotEncoding이 필요."
      ]
    },
    {
      "cell_type": "code",
      "metadata": {
        "id": "B32SsbyaaTZz"
      },
      "source": [
        "# step 1 : (60000, 1) 만들기\n",
        "y_train_reshape = y_train.reshape(y_train.shape[0], -1)"
      ],
      "execution_count": null,
      "outputs": []
    },
    {
      "cell_type": "code",
      "metadata": {
        "id": "sQ98X6SjadVq",
        "outputId": "9981bf05-728e-40cc-eff3-3f144f12787f",
        "colab": {
          "base_uri": "https://localhost:8080/"
        }
      },
      "source": [
        "y_train_reshape.shape"
      ],
      "execution_count": null,
      "outputs": [
        {
          "output_type": "execute_result",
          "data": {
            "text/plain": [
              "(60000, 1)"
            ]
          },
          "metadata": {
            "tags": []
          },
          "execution_count": 39
        }
      ]
    },
    {
      "cell_type": "code",
      "metadata": {
        "id": "RPoIWlPMayFN",
        "outputId": "53698d59-dc51-4edd-9442-0217e39e106e",
        "colab": {
          "base_uri": "https://localhost:8080/"
        }
      },
      "source": [
        "from sklearn.preprocessing import OneHotEncoder\n",
        "\n",
        "y_train_dummy = OneHotEncoder().fit_transform(y_train_reshape)\n",
        "y_train_dummy = y_train_dummy.toarray()\n",
        "\n",
        "y_train_dummy.shape"
      ],
      "execution_count": null,
      "outputs": [
        {
          "output_type": "execute_result",
          "data": {
            "text/plain": [
              "(60000, 10)"
            ]
          },
          "metadata": {
            "tags": []
          },
          "execution_count": 42
        }
      ]
    },
    {
      "cell_type": "code",
      "metadata": {
        "id": "Q3LoXhDzcbZX",
        "outputId": "1f7797af-81e5-4ee1-ee11-842179b2047c",
        "colab": {
          "base_uri": "https://localhost:8080/"
        }
      },
      "source": [
        "x_train_dummy = x_train.reshape(x_train.shape[0], -1)\n",
        "x_train_dummy.shape"
      ],
      "execution_count": null,
      "outputs": [
        {
          "output_type": "execute_result",
          "data": {
            "text/plain": [
              "(60000, 784)"
            ]
          },
          "metadata": {
            "tags": []
          },
          "execution_count": 45
        }
      ]
    },
    {
      "cell_type": "code",
      "metadata": {
        "id": "O8Nh3ROyckTv",
        "outputId": "8c803d2a-3b30-4644-89e7-99a83f603ae2",
        "colab": {
          "base_uri": "https://localhost:8080/"
        }
      },
      "source": [
        "x_train_dummy.shape, y_train_dummy.shape"
      ],
      "execution_count": null,
      "outputs": [
        {
          "output_type": "execute_result",
          "data": {
            "text/plain": [
              "((60000, 784), (60000, 10))"
            ]
          },
          "metadata": {
            "tags": []
          },
          "execution_count": 46
        }
      ]
    },
    {
      "cell_type": "markdown",
      "metadata": {
        "id": "iqUcI-JOc6z6"
      },
      "source": [
        "미니배치 - 랜덤하게 뽑은 인덱스로 배치를 만든 것"
      ]
    },
    {
      "cell_type": "code",
      "metadata": {
        "id": "r8Z-c9Fkc6Gg",
        "outputId": "92cc0be0-ba80-474f-cb70-fd8d7c6fdeb1",
        "colab": {
          "base_uri": "https://localhost:8080/"
        }
      },
      "source": [
        "# 60000개의 데이터 중 무작위로 10개만 뽑아서 미니배치를 만들기.\n",
        "# choice(범위 숫자, 개수)\n",
        "\n",
        "train_size = x_train.shape[0]\n",
        "batch_size = 10\n",
        "batch_mask = np.random.choice(train_size, batch_size) # 60000개 중 10개를 무작위로 뽑는다.\n",
        "\n",
        "print(batch_mask)\n"
      ],
      "execution_count": null,
      "outputs": [
        {
          "output_type": "stream",
          "text": [
            "[ 5866 53148 38041 53482 22886 53345 58932 43768  5347  8781]\n"
          ],
          "name": "stdout"
        }
      ]
    },
    {
      "cell_type": "code",
      "metadata": {
        "id": "6f6puSbjdiKo"
      },
      "source": [
        "# 마스트에의해 선택된 데이터 뽑기\n",
        "x_batch = x_train[batch_mask]\n",
        "t_batch = y_train_dummy[batch_mask]"
      ],
      "execution_count": null,
      "outputs": []
    },
    {
      "cell_type": "markdown",
      "metadata": {
        "id": "1QuIN4XCeJdx"
      },
      "source": [
        "배치용 크로스 엔트로피 구하기 1"
      ]
    },
    {
      "cell_type": "code",
      "metadata": {
        "id": "qEIvZmG6d0ob"
      },
      "source": [
        "def cross_entropy_error_v1(y, t):\n",
        "\n",
        "  if y.ndim == 1: # batch가 한개가 들어와도 처리해주기 위해서.\n",
        "    t = t.reshape(1, t.size)\n",
        "    y = y.reshape(1, y.size)\n",
        "\n",
        "  batch_size = y.shape[0]\n",
        "\n",
        "  # 배치마다의 오차를 모두 더해서 배치 크기로 나눠준다.\n",
        "  return -np.sum(t * np.log(y)) / batch_size # OneHotEncoding된 레이블에만 사용 가능."
      ],
      "execution_count": null,
      "outputs": []
    },
    {
      "cell_type": "code",
      "metadata": {
        "id": "xiN_iHp0fbmj"
      },
      "source": [
        "# sparse_categorical_crossentropy\n",
        "def cross_entropy_error_v2(y, t):\n",
        "  if y.ndim == 1:\n",
        "    t = t.reshape(1, t.size)\n",
        "    y = y.reshape(1, y.size)\n",
        "\n",
        "  batch_size = y.shape[0]\n",
        "\n",
        "  return -np.sum(np.log(y[np.arange(batch_size), t])) / batch_size"
      ],
      "execution_count": null,
      "outputs": []
    },
    {
      "cell_type": "code",
      "metadata": {
        "id": "P4NMP6PUjKc0"
      },
      "source": [
        ""
      ],
      "execution_count": null,
      "outputs": []
    }
  ]
}