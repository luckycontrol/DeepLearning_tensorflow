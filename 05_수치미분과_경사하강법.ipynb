{
  "nbformat": 4,
  "nbformat_minor": 0,
  "metadata": {
    "colab": {
      "name": "05. 수치미분과 경사하강법.ipynb",
      "provenance": [],
      "authorship_tag": "ABX9TyMZy5B0wT3IcOGVIxs4y8dd",
      "include_colab_link": true
    },
    "kernelspec": {
      "name": "python3",
      "display_name": "Python 3"
    }
  },
  "cells": [
    {
      "cell_type": "markdown",
      "metadata": {
        "id": "view-in-github",
        "colab_type": "text"
      },
      "source": [
        "<a href=\"https://colab.research.google.com/github/luckycontrol/DeepLearning_tensorflow/blob/main/05_%EC%88%98%EC%B9%98%EB%AF%B8%EB%B6%84%EA%B3%BC_%EA%B2%BD%EC%82%AC%ED%95%98%EA%B0%95%EB%B2%95.ipynb\" target=\"_parent\"><img src=\"https://colab.research.google.com/assets/colab-badge.svg\" alt=\"Open In Colab\"/></a>"
      ]
    },
    {
      "cell_type": "code",
      "metadata": {
        "id": "kpOHcjMrqV9_"
      },
      "source": [
        "import numpy as np\n",
        "\n",
        "# 나쁜 미분의 구현\n",
        "# 함수 f(x)에서, x가 아주 작은 수인 h만큼 변경되었을 때의 변화량을 구하는 것.\n",
        "# h에 대한 평균변화량\n",
        "def numerical_diff(f, x):\n",
        "  h = 10e-50\n",
        "  return (f(x+h) - f(x)) / h"
      ],
      "execution_count": null,
      "outputs": []
    },
    {
      "cell_type": "code",
      "metadata": {
        "id": "9zT9vXGoql-q",
        "outputId": "4eb80f88-aa2d-4f4b-9b10-a859969e5cf4",
        "colab": {
          "base_uri": "https://localhost:8080/"
        }
      },
      "source": [
        "print(np.float32(1e-50)) # 너무 작아서 컴퓨터가 0으로 표현함."
      ],
      "execution_count": null,
      "outputs": [
        {
          "output_type": "stream",
          "text": [
            "0.0\n"
          ],
          "name": "stdout"
        }
      ]
    },
    {
      "cell_type": "code",
      "metadata": {
        "id": "SkgeTCK-s7kr"
      },
      "source": [
        "def numerical_diff(f, x):\n",
        "  h = 1e-4 # 0.0001\n",
        "  return (f(x+h) - f(x-h)) / (2*h)\n"
      ],
      "execution_count": null,
      "outputs": []
    },
    {
      "cell_type": "code",
      "metadata": {
        "id": "ddQrV48Et0T2"
      },
      "source": [
        ""
      ],
      "execution_count": null,
      "outputs": []
    }
  ]
}