{
  "nbformat": 4,
  "nbformat_minor": 0,
  "metadata": {
    "colab": {
      "name": "05. 수치미분과 경사하강법.ipynb",
      "provenance": [],
      "authorship_tag": "ABX9TyOZhYmp80mqnaGOwX5X7nKo",
      "include_colab_link": true
    },
    "kernelspec": {
      "name": "python3",
      "display_name": "Python 3"
    },
    "widgets": {
      "application/vnd.jupyter.widget-state+json": {
        "d907080f3a154a8e905c3011596dce48": {
          "model_module": "@jupyter-widgets/controls",
          "model_name": "HBoxModel",
          "state": {
            "_view_name": "HBoxView",
            "_dom_classes": [],
            "_model_name": "HBoxModel",
            "_view_module": "@jupyter-widgets/controls",
            "_model_module_version": "1.5.0",
            "_view_count": null,
            "_view_module_version": "1.5.0",
            "box_style": "",
            "layout": "IPY_MODEL_69dde89feef84e5e9c51d0262421fbad",
            "_model_module": "@jupyter-widgets/controls",
            "children": [
              "IPY_MODEL_7048b02c66f5411588b8b07223701b53",
              "IPY_MODEL_beb19e05f11e413996cac8a851047937"
            ]
          }
        },
        "69dde89feef84e5e9c51d0262421fbad": {
          "model_module": "@jupyter-widgets/base",
          "model_name": "LayoutModel",
          "state": {
            "_view_name": "LayoutView",
            "grid_template_rows": null,
            "right": null,
            "justify_content": null,
            "_view_module": "@jupyter-widgets/base",
            "overflow": null,
            "_model_module_version": "1.2.0",
            "_view_count": null,
            "flex_flow": null,
            "width": null,
            "min_width": null,
            "border": null,
            "align_items": null,
            "bottom": null,
            "_model_module": "@jupyter-widgets/base",
            "top": null,
            "grid_column": null,
            "overflow_y": null,
            "overflow_x": null,
            "grid_auto_flow": null,
            "grid_area": null,
            "grid_template_columns": null,
            "flex": null,
            "_model_name": "LayoutModel",
            "justify_items": null,
            "grid_row": null,
            "max_height": null,
            "align_content": null,
            "visibility": null,
            "align_self": null,
            "height": null,
            "min_height": null,
            "padding": null,
            "grid_auto_rows": null,
            "grid_gap": null,
            "max_width": null,
            "order": null,
            "_view_module_version": "1.2.0",
            "grid_template_areas": null,
            "object_position": null,
            "object_fit": null,
            "grid_auto_columns": null,
            "margin": null,
            "display": null,
            "left": null
          }
        },
        "7048b02c66f5411588b8b07223701b53": {
          "model_module": "@jupyter-widgets/controls",
          "model_name": "FloatProgressModel",
          "state": {
            "_view_name": "ProgressView",
            "style": "IPY_MODEL_acacc5934cc94d518624097117860f65",
            "_dom_classes": [],
            "description": "  0%",
            "_model_name": "FloatProgressModel",
            "bar_style": "danger",
            "max": 10000,
            "_view_module": "@jupyter-widgets/controls",
            "_model_module_version": "1.5.0",
            "value": 1,
            "_view_count": null,
            "_view_module_version": "1.5.0",
            "orientation": "horizontal",
            "min": 0,
            "description_tooltip": null,
            "_model_module": "@jupyter-widgets/controls",
            "layout": "IPY_MODEL_4907015203fe4618b000ff032cddf8a1"
          }
        },
        "beb19e05f11e413996cac8a851047937": {
          "model_module": "@jupyter-widgets/controls",
          "model_name": "HTMLModel",
          "state": {
            "_view_name": "HTMLView",
            "style": "IPY_MODEL_233a39759a06470f84c9ae7a8ff12006",
            "_dom_classes": [],
            "description": "",
            "_model_name": "HTMLModel",
            "placeholder": "​",
            "_view_module": "@jupyter-widgets/controls",
            "_model_module_version": "1.5.0",
            "value": " 1/10000 [06:51&lt;601:06:10, 216.42s/it]",
            "_view_count": null,
            "_view_module_version": "1.5.0",
            "description_tooltip": null,
            "_model_module": "@jupyter-widgets/controls",
            "layout": "IPY_MODEL_af37c77c3cfe41db90c65d9779bf80b4"
          }
        },
        "acacc5934cc94d518624097117860f65": {
          "model_module": "@jupyter-widgets/controls",
          "model_name": "ProgressStyleModel",
          "state": {
            "_view_name": "StyleView",
            "_model_name": "ProgressStyleModel",
            "description_width": "initial",
            "_view_module": "@jupyter-widgets/base",
            "_model_module_version": "1.5.0",
            "_view_count": null,
            "_view_module_version": "1.2.0",
            "bar_color": null,
            "_model_module": "@jupyter-widgets/controls"
          }
        },
        "4907015203fe4618b000ff032cddf8a1": {
          "model_module": "@jupyter-widgets/base",
          "model_name": "LayoutModel",
          "state": {
            "_view_name": "LayoutView",
            "grid_template_rows": null,
            "right": null,
            "justify_content": null,
            "_view_module": "@jupyter-widgets/base",
            "overflow": null,
            "_model_module_version": "1.2.0",
            "_view_count": null,
            "flex_flow": null,
            "width": null,
            "min_width": null,
            "border": null,
            "align_items": null,
            "bottom": null,
            "_model_module": "@jupyter-widgets/base",
            "top": null,
            "grid_column": null,
            "overflow_y": null,
            "overflow_x": null,
            "grid_auto_flow": null,
            "grid_area": null,
            "grid_template_columns": null,
            "flex": null,
            "_model_name": "LayoutModel",
            "justify_items": null,
            "grid_row": null,
            "max_height": null,
            "align_content": null,
            "visibility": null,
            "align_self": null,
            "height": null,
            "min_height": null,
            "padding": null,
            "grid_auto_rows": null,
            "grid_gap": null,
            "max_width": null,
            "order": null,
            "_view_module_version": "1.2.0",
            "grid_template_areas": null,
            "object_position": null,
            "object_fit": null,
            "grid_auto_columns": null,
            "margin": null,
            "display": null,
            "left": null
          }
        },
        "233a39759a06470f84c9ae7a8ff12006": {
          "model_module": "@jupyter-widgets/controls",
          "model_name": "DescriptionStyleModel",
          "state": {
            "_view_name": "StyleView",
            "_model_name": "DescriptionStyleModel",
            "description_width": "",
            "_view_module": "@jupyter-widgets/base",
            "_model_module_version": "1.5.0",
            "_view_count": null,
            "_view_module_version": "1.2.0",
            "_model_module": "@jupyter-widgets/controls"
          }
        },
        "af37c77c3cfe41db90c65d9779bf80b4": {
          "model_module": "@jupyter-widgets/base",
          "model_name": "LayoutModel",
          "state": {
            "_view_name": "LayoutView",
            "grid_template_rows": null,
            "right": null,
            "justify_content": null,
            "_view_module": "@jupyter-widgets/base",
            "overflow": null,
            "_model_module_version": "1.2.0",
            "_view_count": null,
            "flex_flow": null,
            "width": null,
            "min_width": null,
            "border": null,
            "align_items": null,
            "bottom": null,
            "_model_module": "@jupyter-widgets/base",
            "top": null,
            "grid_column": null,
            "overflow_y": null,
            "overflow_x": null,
            "grid_auto_flow": null,
            "grid_area": null,
            "grid_template_columns": null,
            "flex": null,
            "_model_name": "LayoutModel",
            "justify_items": null,
            "grid_row": null,
            "max_height": null,
            "align_content": null,
            "visibility": null,
            "align_self": null,
            "height": null,
            "min_height": null,
            "padding": null,
            "grid_auto_rows": null,
            "grid_gap": null,
            "max_width": null,
            "order": null,
            "_view_module_version": "1.2.0",
            "grid_template_areas": null,
            "object_position": null,
            "object_fit": null,
            "grid_auto_columns": null,
            "margin": null,
            "display": null,
            "left": null
          }
        }
      }
    }
  },
  "cells": [
    {
      "cell_type": "markdown",
      "metadata": {
        "id": "view-in-github",
        "colab_type": "text"
      },
      "source": [
        "<a href=\"https://colab.research.google.com/github/luckycontrol/DeepLearning_tensorflow/blob/main/05_%EC%88%98%EC%B9%98%EB%AF%B8%EB%B6%84%EA%B3%BC_%EA%B2%BD%EC%82%AC%ED%95%98%EA%B0%95%EB%B2%95.ipynb\" target=\"_parent\"><img src=\"https://colab.research.google.com/assets/colab-badge.svg\" alt=\"Open In Colab\"/></a>"
      ]
    },
    {
      "cell_type": "code",
      "metadata": {
        "id": "kpOHcjMrqV9_"
      },
      "source": [
        "import numpy as np\n",
        "\n",
        "# 나쁜 미분의 구현\n",
        "# 함수 f(x)에서, x가 아주 작은 수인 h만큼 변경되었을 때의 변화량을 구하는 것.\n",
        "# h에 대한 평균변화량\n",
        "def numerical_diff(f, x):\n",
        "  h = 10e-50\n",
        "  return (f(x+h) - f(x)) / h"
      ],
      "execution_count": null,
      "outputs": []
    },
    {
      "cell_type": "code",
      "metadata": {
        "id": "9zT9vXGoql-q",
        "outputId": "e3fab8a7-2792-4e89-ef92-ce8ddf54cf2f",
        "colab": {
          "base_uri": "https://localhost:8080/"
        }
      },
      "source": [
        "print(np.float32(1e-50)) # 너무 작아서 컴퓨터가 0으로 표현함."
      ],
      "execution_count": null,
      "outputs": [
        {
          "output_type": "stream",
          "text": [
            "0.0\n"
          ],
          "name": "stdout"
        }
      ]
    },
    {
      "cell_type": "code",
      "metadata": {
        "id": "SkgeTCK-s7kr"
      },
      "source": [
        "def numerical_diff(f, x):\n",
        "  h = 1e-4 # 0.0001\n",
        "  return (f(x+h) - f(x-h)) / (2*h)\n"
      ],
      "execution_count": null,
      "outputs": []
    },
    {
      "cell_type": "code",
      "metadata": {
        "id": "d0_G5c8Yu_ei"
      },
      "source": [
        "def function_1(x):\n",
        "    return 0.01*x**2 + 0.1*x "
      ],
      "execution_count": null,
      "outputs": []
    },
    {
      "cell_type": "code",
      "metadata": {
        "id": "PGlN1jgTu7Lo",
        "outputId": "40a3d96c-661f-49b9-cd83-d39aed386f0c",
        "colab": {
          "base_uri": "https://localhost:8080/",
          "height": 279
        }
      },
      "source": [
        "import numpy as np\n",
        "import matplotlib.pylab as plt\n",
        "\n",
        "%matplotlib inline\n",
        "\n",
        "x = np.arange(0.0, 20.0, 0.1) # 0에서 20까지 0.1 간격의 배열을 생성\n",
        "y = function_1(x)\n",
        "\n",
        "plt.xlabel('x')\n",
        "plt.ylabel('f(x)')\n",
        "plt.plot(x, y)\n",
        "plt.show()"
      ],
      "execution_count": null,
      "outputs": [
        {
          "output_type": "display_data",
          "data": {
            "image/png": "[encoded data removed]",
            "text/plain": [
              "<Figure size 432x288 with 1 Axes>"
            ]
          },
          "metadata": {
            "tags": [],
            "needs_background": "light"
          }
        }
      ]
    },
    {
      "cell_type": "markdown",
      "metadata": {
        "id": "arxtOjvbu0YK"
      },
      "source": [
        "# 편미분\n",
        "\n",
        "$$ f(x_0, x_1) = x_0^2 + x_1^2 $$"
      ]
    },
    {
      "cell_type": "code",
      "metadata": {
        "id": "ddQrV48Et0T2",
        "outputId": "6ba90ed7-da76-4121-9d0d-0300df6b41e3",
        "colab": {
          "base_uri": "https://localhost:8080/"
        }
      },
      "source": [
        "# x0 = 3, x1 = 4 일 때 함수 f에 대한 x0의 편미분을 구하기\n",
        "# x1을 4로 대입했을 때의 x0의 미분값을 구하는 것과 동일하다.\n",
        "\n",
        "def func_1(x0):\n",
        "  return x0 ** 2 + 4.0 ** 2\n",
        "\n",
        "print(numerical_diff(func_1, 3.0))"
      ],
      "execution_count": null,
      "outputs": [
        {
          "output_type": "stream",
          "text": [
            "6.00000000000378\n"
          ],
          "name": "stdout"
        }
      ]
    },
    {
      "cell_type": "markdown",
      "metadata": {
        "id": "Rf5Xvq2_wY2D"
      },
      "source": [
        ""
      ]
    },
    {
      "cell_type": "code",
      "metadata": {
        "id": "7v3gFO6XvXY3",
        "outputId": "3212323b-d399-45f9-b551-bbf3c39d251b",
        "colab": {
          "base_uri": "https://localhost:8080/"
        }
      },
      "source": [
        "def func_2(x1):\n",
        "  return 7.0 ** 2 + x1 ** 2\n",
        "\n",
        "print(numerical_diff(func_2, 3.0))"
      ],
      "execution_count": null,
      "outputs": [
        {
          "output_type": "stream",
          "text": [
            "5.9999999999860165\n"
          ],
          "name": "stdout"
        }
      ]
    },
    {
      "cell_type": "markdown",
      "metadata": {
        "id": "DpJ6omjK1qtS"
      },
      "source": [
        "기울기 벡터 알아보기\n",
        "\n",
        "- 각 변수의 방향으로 어떻게 이동해야할지 구한다."
      ]
    },
    {
      "cell_type": "code",
      "metadata": {
        "id": "rvjD7PmawjaM"
      },
      "source": [
        "def numerical_gradient(f, x): # 편미분값을 구하기.\n",
        "  h = 1e-4\n",
        "  # 기울기 벡터를 저장할 배열 생성하기 ( 변수의 갯수만큼 원소를 가질 수 있도록 )\n",
        "  grad = np.zeros_like(x) # x 배열의 크기 만큼 0으로 채워진 배열 만들기.\n",
        "\n",
        "  # 각 변수에 대한 미분값 구하기\n",
        "  for idx in range(x.size):\n",
        "    tmp_val = x[idx]\n",
        "\n",
        "    # f(x+h) 계산\n",
        "    x[idx] = tmp_val + h\n",
        "    fxh1 = f(x)\n",
        "\n",
        "    # f(x-h) 계산\n",
        "    x[idx] = tmp_val - h\n",
        "    fxh2 = f(x)\n",
        "\n",
        "    # 각 편미분의 기울기 저장\n",
        "    # ex) x0에 대한 편미분을 구하고 해당 기울기를 해당 인덱스에 저장\n",
        "    #     x1에 대한 편미분을 구하고 해당 기울기를 해당 인덱스에 저장\n",
        "    grad[idx] = (fxh1 - fxh2) / 2 * h\n",
        "\n",
        "    # 원래값 복구\n",
        "    x[idx] = tmp_val\n",
        "\n",
        "  return grad"
      ],
      "execution_count": null,
      "outputs": []
    },
    {
      "cell_type": "code",
      "metadata": {
        "id": "lO_V9ymB4Fc3"
      },
      "source": [
        "def function_2(x):\n",
        "  return x[0] ** 2 + x[1] ** 2"
      ],
      "execution_count": null,
      "outputs": []
    },
    {
      "cell_type": "code",
      "metadata": {
        "id": "a2gsTW4y4usg",
        "outputId": "86c49f28-f47c-4145-841e-e423a3d3aa08",
        "colab": {
          "base_uri": "https://localhost:8080/"
        }
      },
      "source": [
        "result = numerical_gradient(function_2, np.array([3.0, 4.0]))\n",
        "print(\"x = [3, 4] 일 때의 기울기 배열 : {}\".format(result))\n",
        "\n",
        "result = numerical_gradient(function_2, np.array([0.0, 2.0]))\n",
        "print(\"x = [0, 2] 일 때의 기울기 배열 : {}\".format(result))\n",
        "\n",
        "result = numerical_gradient(function_2, np.array([3.0, 0.0]))\n",
        "print(\"x = [3, 0] 일 때의 기울기 배열 : {}\".format(result))"
      ],
      "execution_count": null,
      "outputs": [
        {
          "output_type": "stream",
          "text": [
            "x = [3, 4] 일 때의 기울기 배열 : [6.e-08 8.e-08]\n",
            "x = [0, 2] 일 때의 기울기 배열 : [0.e+00 4.e-08]\n",
            "x = [3, 0] 일 때의 기울기 배열 : [6.e-08 0.e+00]\n"
          ],
          "name": "stdout"
        }
      ]
    },
    {
      "cell_type": "markdown",
      "metadata": {
        "id": "pC1MtaSb-5XS"
      },
      "source": [
        "경사하강법 구현하기"
      ]
    },
    {
      "cell_type": "code",
      "metadata": {
        "id": "-DAcYU3O-67g"
      },
      "source": [
        "'''\n",
        "  f : 대상함수\n",
        "  init_x : 시작지점\n",
        "  lr : 0.01\n",
        "  step_num : 학습 횟수 ( 경사하강법을 진행할 횟수 )\n",
        "'''\n",
        "\n",
        "def gradient_descent(f, init_x, lr=0.01, step_num=100):\n",
        "  x = init_x\n",
        "\n",
        "  for i in range(step_num):\n",
        "    # 각 변수마다 x에서의 기울기를 구한다.\n",
        "    grad = numerical_gradient(f, x)\n",
        "\n",
        "    # 경사하강법을 이용해서 x를 업데이트.\n",
        "    x -= lr * grad\n",
        "\n",
        "  return x"
      ],
      "execution_count": null,
      "outputs": []
    },
    {
      "cell_type": "code",
      "metadata": {
        "id": "op98crzzRu1w"
      },
      "source": [
        "def numerical_gradient(f, x):\n",
        "  h = 1e-4 # 0.0001\n",
        "  grad = np.zeros_like(x) # x와 형상이 같은 배열을 생성\n",
        "  \n",
        "  for idx in range(x.size):\n",
        "      tmp_val = x[idx]\n",
        "      \n",
        "      # f(x+h) 계산\n",
        "      x[idx] = float(tmp_val) + h\n",
        "      fxh1 = f(x)\n",
        "      \n",
        "      # f(x-h) 계산\n",
        "      x[idx] = tmp_val - h \n",
        "      fxh2 = f(x) \n",
        "      \n",
        "      grad[idx] = (fxh1 - fxh2) / (2*h)\n",
        "      x[idx] = tmp_val # 값 복원\n",
        "      \n",
        "  return grad"
      ],
      "execution_count": null,
      "outputs": []
    },
    {
      "cell_type": "code",
      "metadata": {
        "id": "LzYOnfL-_Znc",
        "outputId": "6925ca7f-2e86-4ea0-f25b-e9878a38d52e",
        "colab": {
          "base_uri": "https://localhost:8080/"
        }
      },
      "source": [
        "def function_2(x):\n",
        "    return x[0]**2 + x[1]**2\n",
        "\n",
        "init_x = np.array([-3.0, 4.0])\n",
        "print(\"최솟값 탐색 결과 : {}\".format(gradient_descent(function_2, init_x=init_x, lr=0.1, step_num=100)[0]))"
      ],
      "execution_count": null,
      "outputs": [
        {
          "output_type": "stream",
          "text": [
            "최솟값 탐색 결과 : -6.111107928998789e-10\n"
          ],
          "name": "stdout"
        }
      ]
    },
    {
      "cell_type": "code",
      "metadata": {
        "id": "0tpWhozbSqP2",
        "outputId": "cf0716e0-d762-4d70-9ada-6800d06de507",
        "colab": {
          "base_uri": "https://localhost:8080/",
          "height": 279
        }
      },
      "source": [
        "# coding: utf-8\n",
        "import numpy as np\n",
        "import matplotlib.pylab as plt\n",
        "\n",
        "\n",
        "def gradient_descent(f, init_x, lr=0.01, step_num=100):\n",
        "    x = init_x\n",
        "    x_history = []\n",
        "\n",
        "    for i in range(step_num):\n",
        "        x_history.append( x.copy() )\n",
        "\n",
        "        grad = numerical_gradient(f, x)\n",
        "        x -= lr * grad\n",
        "\n",
        "    return x, np.array(x_history)\n",
        "\n",
        "init_x = np.array([-3.0, 4.0])    \n",
        "\n",
        "lr = 0.1\n",
        "step_num = 20\n",
        "x, x_history = gradient_descent(function_2, init_x, lr=lr, step_num=step_num)\n",
        "\n",
        "plt.plot( [-5, 5], [0,0], '--b')\n",
        "plt.plot( [0,0], [-5, 5], '--b')\n",
        "plt.plot(x_history[:,0], x_history[:,1], 'o')\n",
        "\n",
        "plt.xlim(-3.5, 3.5)\n",
        "plt.ylim(-4.5, 4.5)\n",
        "plt.xlabel(\"X0\")\n",
        "plt.ylabel(\"X1\")\n",
        "plt.show()"
      ],
      "execution_count": null,
      "outputs": [
        {
          "output_type": "display_data",
          "data": {
            "image/png": "[encoded data removed]",
            "text/plain": [
              "<Figure size 432x288 with 1 Axes>"
            ]
          },
          "metadata": {
            "tags": [],
            "needs_background": "light"
          }
        }
      ]
    },
    {
      "cell_type": "markdown",
      "metadata": {
        "id": "khPYb_Y6S9pF"
      },
      "source": [
        "학습률에 대한 결과 확인하기"
      ]
    },
    {
      "cell_type": "code",
      "metadata": {
        "id": "bgIRbfMzTAs_",
        "outputId": "3fc68167-c616-418b-dddd-6d0054ee6930",
        "colab": {
          "base_uri": "https://localhost:8080/"
        }
      },
      "source": [
        "init_x = np.array([-3.0, 4.0])\n",
        "\n",
        "result, _ = gradient_descent(function_2, init_x=init_x, lr=10.0, step_num=100)\n",
        "print(\"학습률이 10.0 일 때 : {}\".format(result)) # 발산"
      ],
      "execution_count": null,
      "outputs": [
        {
          "output_type": "stream",
          "text": [
            "학습률이 10.0 일 때 : [-2.58983747e+13 -1.29524862e+12]\n"
          ],
          "name": "stdout"
        }
      ]
    },
    {
      "cell_type": "markdown",
      "metadata": {
        "id": "uu_a7r5KTYck"
      },
      "source": [
        "학습률이 너무 크면 최소지점을 찾지 못하고 발산한다."
      ]
    },
    {
      "cell_type": "code",
      "metadata": {
        "id": "83T70EWjTPIG",
        "outputId": "2b700de5-0ad3-4237-fd1b-5eb6591b7a7e",
        "colab": {
          "base_uri": "https://localhost:8080/"
        }
      },
      "source": [
        "init_x = np.array([-3.0, 4.0])\n",
        "\n",
        "result, _ = gradient_descent(function_2, init_x=init_x, lr=1e-10, step_num=100)\n",
        "print(\"학습률이 1e-10 일 때 : {}\".format(result)) # 발산"
      ],
      "execution_count": null,
      "outputs": [
        {
          "output_type": "stream",
          "text": [
            "학습률이 1e-10 일 때 : [-2.99999994  3.99999992]\n"
          ],
          "name": "stdout"
        }
      ]
    },
    {
      "cell_type": "markdown",
      "metadata": {
        "id": "V_quktenT5VW"
      },
      "source": [
        "학습률이 너무 작으면 값의 갱신이 거의 이루어지지 않는다."
      ]
    },
    {
      "cell_type": "markdown",
      "metadata": {
        "id": "eknl3B_XUROd"
      },
      "source": [
        "학습률의 기본값은 거의 0.01을 놓고 사용한다."
      ]
    },
    {
      "cell_type": "code",
      "metadata": {
        "id": "OyTFTm1cTklV",
        "outputId": "80705443-a194-4c66-d8f8-ca56efd78259",
        "colab": {
          "base_uri": "https://localhost:8080/"
        }
      },
      "source": [
        "%cd common\n",
        "!unzip common.zip"
      ],
      "execution_count": 37,
      "outputs": [
        {
          "output_type": "stream",
          "text": [
            "/content/common\n",
            "Archive:  common.zip\n",
            "  inflating: functions.py            \n",
            "  inflating: gradient.py             \n",
            "  inflating: layers.py               \n",
            "  inflating: multi_layer_net.py      \n",
            "  inflating: multi_layer_net_extend.py  \n",
            "  inflating: optimizer.py            \n",
            "  inflating: trainer.py              \n",
            "  inflating: util.py                 \n",
            " extracting: __init__.py             \n"
          ],
          "name": "stdout"
        }
      ]
    },
    {
      "cell_type": "code",
      "metadata": {
        "id": "p_0iLCkAWZfM"
      },
      "source": [
        "import sys, os\n",
        "sys.path.append(os.pardir)\n",
        "import numpy as np\n",
        "from common.functions import softmax, cross_entropy_error\n",
        "from common.gradient import numerical_gradient"
      ],
      "execution_count": 38,
      "outputs": []
    },
    {
      "cell_type": "code",
      "metadata": {
        "id": "sFda8oeqXTrz"
      },
      "source": [
        "class SimpleNet:\n",
        "  def __init__(self):\n",
        "    # 신경망의 초기화 과정\n",
        "    # 최초의 가중치와 편향을 가져야 한다.\n",
        "    #   1) 정규분포 랜덤 * 0.01 ( 일반적인 케이스 )\n",
        "    #   2) 카이밍 히 초깃값 ( He 초깃값 )\n",
        "    #   3) 사비에르 초깃값 ( Xavier 초깃값 )\n",
        "\n",
        "    self.W = np.random.randn(2, 3) # 가중치를 랜덤하게 정규분포로 초기화 한다.\n",
        "\n",
        "  def predict(self, x):\n",
        "    return np.dot(x, self.W)\n",
        "\n",
        "  def loss(self, x, t): # x : 문제, t: target ( 정답 )\n",
        "    z = self.predict(x)\n",
        "    y = softmax(z) # 출력값 구하기\n",
        "\n",
        "    loss = cross_entropy_error(y, t) # Loss값 구하기. 예측값과 실제값을 동시에 넣는다.\n",
        "\n",
        "    return loss"
      ],
      "execution_count": 39,
      "outputs": []
    },
    {
      "cell_type": "code",
      "metadata": {
        "id": "RxrdoVHIZeBc",
        "outputId": "dfbd217d-34d4-4016-b80e-d26fa81baeff",
        "colab": {
          "base_uri": "https://localhost:8080/"
        }
      },
      "source": [
        "net = SimpleNet()\n",
        "print(\"가중치: {}\".format(net.W))"
      ],
      "execution_count": 40,
      "outputs": [
        {
          "output_type": "stream",
          "text": [
            "가중치: [[-0.46774027  1.54223028  0.29455937]\n",
            " [-0.11962938  2.63199857 -1.50308804]]\n"
          ],
          "name": "stdout"
        }
      ]
    },
    {
      "cell_type": "code",
      "metadata": {
        "id": "iUVLYobuZjqQ",
        "outputId": "79048a71-4d5c-43fa-aebd-d4b34ca90485",
        "colab": {
          "base_uri": "https://localhost:8080/"
        }
      },
      "source": [
        "x = np.array([0.6, 0.9])\n",
        "p = net.predict(x)\n",
        "\n",
        "print(\"예측값: {}\".format(p))"
      ],
      "execution_count": 41,
      "outputs": [
        {
          "output_type": "stream",
          "text": [
            "예측값: [-0.38831061  3.29413688 -1.17604362]\n"
          ],
          "name": "stdout"
        }
      ]
    },
    {
      "cell_type": "code",
      "metadata": {
        "id": "suYCY8-6Zzrh",
        "outputId": "dbbf648d-bf87-41ae-9eba-bc2e79334f8e",
        "colab": {
          "base_uri": "https://localhost:8080/"
        }
      },
      "source": [
        "print(\"최댓값의 인덱스: {}\".format(np.argmax(p))) # 최댓값의 인덱스 확인"
      ],
      "execution_count": 42,
      "outputs": [
        {
          "output_type": "stream",
          "text": [
            "최댓값의 인덱스: 1\n"
          ],
          "name": "stdout"
        }
      ]
    },
    {
      "cell_type": "code",
      "metadata": {
        "id": "Z9bVvZ0hZ-MN",
        "outputId": "44e1366e-c1a5-49f1-edbc-385e64b61773",
        "colab": {
          "base_uri": "https://localhost:8080/"
        }
      },
      "source": [
        "t = np.array([1, 0, 0]) # 정답이 0번 인덱스 일 때\n",
        "t_error = np.array([0, 0, 1]) # # 정답이 2번 인덱스 일 때\n",
        "\n",
        "print(\"정답이 0번 인덱스 일 때: {}\".format(net.loss(x, t)))\n",
        "print(\"정답이 2번 인덱스 일 때: {}\".format(net.loss(x, t_error)))"
      ],
      "execution_count": 46,
      "outputs": [
        {
          "output_type": "stream",
          "text": [
            "정답이 0번 인덱스 일 때: 3.7183958276982154\n",
            "정답이 2번 인덱스 일 때: 4.506123900961175\n"
          ],
          "name": "stdout"
        }
      ]
    },
    {
      "cell_type": "code",
      "metadata": {
        "id": "D4DqHVrwadRE"
      },
      "source": [
        "t = np.array([0, 0, 1]) # # 정답이 2번 인덱스 일 때 \n",
        "\n",
        "def f(W):\n",
        "  return net.loss(x, t)"
      ],
      "execution_count": 47,
      "outputs": []
    },
    {
      "cell_type": "code",
      "metadata": {
        "id": "RQX76S3sbe-Q",
        "outputId": "ddeea099-3bd9-423e-9d98-73a4d196aacc",
        "colab": {
          "base_uri": "https://localhost:8080/"
        }
      },
      "source": [
        "dW = numerical_gradient(f, net.W) # Loss를 구하는 함수 f에 대한 모든 W의 기울기 구하기\n",
        "print(dW)"
      ],
      "execution_count": 48,
      "outputs": [
        {
          "output_type": "stream",
          "text": [
            "[[ 0.01456353  0.57880645 -0.59336998]\n",
            " [ 0.0218453   0.86820967 -0.89005497]]\n"
          ],
          "name": "stdout"
        }
      ]
    },
    {
      "cell_type": "markdown",
      "metadata": {
        "id": "xtRXMGTme7v1"
      },
      "source": [
        "* $ W_{11}$ 이 h만큼 증가하면 Loss가 0.01만큼 증가한다.\n",
        "* $ W_{31}$ 이 h만큼 증가하면 Loss가 0.6만큼 감소한다."
      ]
    },
    {
      "cell_type": "markdown",
      "metadata": {
        "id": "dCUBIJUQgBo1"
      },
      "source": [
        "# MNIST 신경망 구현하기"
      ]
    },
    {
      "cell_type": "code",
      "metadata": {
        "id": "QDMgVC_jbrL0"
      },
      "source": [
        "import sys, os\n",
        "sys.path.append(os.pardir)\n",
        "\n",
        "from common.functions import *\n",
        "from common.gradient import numerical_gradient"
      ],
      "execution_count": 49,
      "outputs": []
    },
    {
      "cell_type": "code",
      "metadata": {
        "id": "M-izxUangNP4"
      },
      "source": [
        "'''\n",
        "TwoLayerNet : 2층 짜리 신경망 - 은닉층 1개, 출력층 1개\n",
        "  - 마음대로 Hidden Unit, Output Size를 조절할 수 있게 만들 것.\n",
        "'''\n",
        "\n",
        "class TwoLayerNet:\n",
        "  # 초기화 시 필요한 것\n",
        "  #   1. 입력 데이터. x의 size : n개의 입력을 받아서 w의 갯수를 파악해야 하기 때문에.\n",
        "  #       - mnist의 경우 28x28개의 입력을 받는다.\n",
        "\n",
        "  #   2. hidden unit의 크기\n",
        "  #   3. output size\n",
        "  #   4. 가중치 정규분포 초기화 값 ( 정규분포 랜덤값에 곱할 값 ) - 0.01을 곱하는 것으로 알려져 있다..\n",
        "  def __init__(self, input_size, hidden_size, output_size, weight_init_std=0.01):\n",
        "    # 가중치 초기화\n",
        "    self.params = {}\n",
        "\n",
        "    # 1층 매개변수 마련하기\n",
        "    self.params['W1'] = weight_init_std * np.random.randn(input_size, hidden_size)\n",
        "    self.params['b1'] = np.zeros(hidden_size)\n",
        "\n",
        "    # 2층(출력층) 매개변수 마련하기\n",
        "    self.params['W2'] = weight_init_std * np.random.randn(hidden_size, output_size)\n",
        "    self.params['b2'] = np.zeros(output_size)\n",
        "\n",
        "  def predict(self, x):\n",
        "    W1, W2, b1, b2 = self.params['W1'], self.params['W2'], self.params['b1'], self.params['b2']\n",
        "\n",
        "    # 1층 계산\n",
        "    z1 = np.dot(x, W1) + b1\n",
        "    a1 = sigmoid(z1)\n",
        "\n",
        "    # 2층 계산\n",
        "    z2 = np.dot(a1, W2) + b2\n",
        "    y = softmax(z2)\n",
        "\n",
        "    return y\n",
        "\n",
        "  def loss(self, x, t):\n",
        "    # Loss를 구하기 위해서는 예측부터 한다. - 예측값과 타겟값을 이용해서 얼마나 차이나는지 구한다.\n",
        "    y = self.predict(x)\n",
        "\n",
        "    return cross_entropy_error(y, t)\n",
        "\n",
        "  def accuracy(self, x, t):\n",
        "    y = self.predict(x)\n",
        "\n",
        "    y = np.argmax(y, axis=1)\n",
        "    t = np.argmax(t, axis=1)\n",
        "\n",
        "    accuracy = np.sum(y==t) / float(x.shape[0])\n",
        "\n",
        "    return accuracy\n",
        "\n",
        "  def numerical_gradient(self, x, t):\n",
        "    # 신경망의 모든 매개변수의 미분값(기울기) 구하기 - 수치미분 활용.\n",
        "    print(\"미분 시작\")\n",
        "\n",
        "    loss_W = lambda W: self.loss(x, t)\n",
        "\n",
        "    # 각 층에서 구해지는 기울기를 저장할 딕셔너리\n",
        "    grads = {}\n",
        "\n",
        "    # 1층 매개변수의 기울기 구하기 ( Loss에 대한 W1, b1의 기울기를 구한다. )\n",
        "    grads['W1'] = numerical_gradient(loss_W, self.params['W1'])\n",
        "    grads['b1'] = numerical_gradient(loss_W, self.params['b1'])\n",
        "\n",
        "    # 2층 매개변수의 기울기 구하기 ( Loss에 대한 W2, b2의 기울기 )\n",
        "    grads['W2'] = numerical_gradient(loss_W, self.params['W2'])\n",
        "    grads['b2'] = numerical_gradient(loss_W, self.params['b2'])\n",
        "\n",
        "    return grads\n"
      ],
      "execution_count": 54,
      "outputs": []
    },
    {
      "cell_type": "code",
      "metadata": {
        "id": "XfiaOjIym-Nv"
      },
      "source": [
        "# 신경망 생성하기\n",
        "input_size = 28 * 28\n",
        "hidden_size = 100\n",
        "output_size = 10\n",
        "\n",
        "net = TwoLayerNet(input_size=input_size, hidden_size=hidden_size, output_size=output_size)"
      ],
      "execution_count": 55,
      "outputs": []
    },
    {
      "cell_type": "code",
      "metadata": {
        "id": "cC0dwgHCnTYP",
        "outputId": "e33ede49-678f-4702-c789-cde3a1950975",
        "colab": {
          "base_uri": "https://localhost:8080/"
        }
      },
      "source": [
        "net.params['W1'].shape, net.params['W2'].shape"
      ],
      "execution_count": 56,
      "outputs": [
        {
          "output_type": "execute_result",
          "data": {
            "text/plain": [
              "((784, 100), (100, 10))"
            ]
          },
          "metadata": {
            "tags": []
          },
          "execution_count": 56
        }
      ]
    },
    {
      "cell_type": "markdown",
      "metadata": {
        "id": "wvOC5BuGnhTq"
      },
      "source": [
        "총 매개변수의 개수는 ?\n",
        "\n",
        "(784 * 100 + 100) + (100 * 10 + 10)\n",
        "\n",
        "총 미분횟수 : 60000 * 79510 => 약 49억번..  \n",
        "너무 많다. 따라서 역전파를 이용해야 한다."
      ]
    },
    {
      "cell_type": "code",
      "metadata": {
        "id": "DCIlbkrFohWA"
      },
      "source": [
        "# 신경망이 잘 돌아가는지 임의의 데이터를 집어 넣어서 테스트 해보기\n",
        "x = np.random.rand(100, 784) # 이미지 100장 미니매치를 임의로 만듦\n",
        "y = net.predict(x)"
      ],
      "execution_count": 60,
      "outputs": []
    },
    {
      "cell_type": "code",
      "metadata": {
        "id": "F0zwvlvKowmd",
        "outputId": "e220c13a-69ff-495d-cc9d-9c976d401bd5",
        "colab": {
          "base_uri": "https://localhost:8080/"
        }
      },
      "source": [
        "x.shape, y.shape"
      ],
      "execution_count": 61,
      "outputs": [
        {
          "output_type": "execute_result",
          "data": {
            "text/plain": [
              "((100, 784), (100, 10))"
            ]
          },
          "metadata": {
            "tags": []
          },
          "execution_count": 61
        }
      ]
    },
    {
      "cell_type": "markdown",
      "metadata": {
        "id": "hts98A5do7_a"
      },
      "source": [
        "# MNIST 데이터셋 불러와서 훈련 시키기"
      ]
    },
    {
      "cell_type": "code",
      "metadata": {
        "id": "tNy44bbHo0dz"
      },
      "source": [
        "from tensorflow.keras import datasets\n",
        "\n",
        "mnist = datasets.mnist"
      ],
      "execution_count": 63,
      "outputs": []
    },
    {
      "cell_type": "code",
      "metadata": {
        "id": "s2BBR1ABpMqN",
        "outputId": "96d656e6-2d4a-4c26-f4a2-84d33d7b7b16",
        "colab": {
          "base_uri": "https://localhost:8080/"
        }
      },
      "source": [
        "(x_train, y_train), (x_test, y_test) = mnist.load_data()"
      ],
      "execution_count": 66,
      "outputs": [
        {
          "output_type": "stream",
          "text": [
            "Downloading data from https://storage.googleapis.com/tensorflow/tf-keras-datasets/mnist.npz\n",
            "11493376/11490434 [==============================] - 0s 0us/step\n"
          ],
          "name": "stdout"
        }
      ]
    },
    {
      "cell_type": "code",
      "metadata": {
        "id": "YkEbLk2ApQAc",
        "outputId": "a9258083-15c5-4622-9c7c-61ed54ee1a65",
        "colab": {
          "base_uri": "https://localhost:8080/"
        }
      },
      "source": [
        "x_train.shape, y_train.shape"
      ],
      "execution_count": 67,
      "outputs": [
        {
          "output_type": "execute_result",
          "data": {
            "text/plain": [
              "((60000, 28, 28), (60000,))"
            ]
          },
          "metadata": {
            "tags": []
          },
          "execution_count": 67
        }
      ]
    },
    {
      "cell_type": "code",
      "metadata": {
        "id": "xDq50gnZpaCV"
      },
      "source": [
        "input_size = 28 * 28\n",
        "hidden_size = 100\n",
        "output_size = 10\n",
        "\n",
        "network = TwoLayerNet(input_size=input_size, hidden_size=hidden_size, output_size=output_size)"
      ],
      "execution_count": 68,
      "outputs": []
    },
    {
      "cell_type": "markdown",
      "metadata": {
        "id": "GUbVDQTtv5qy"
      },
      "source": [
        "# 데이터 전처리"
      ]
    },
    {
      "cell_type": "code",
      "metadata": {
        "id": "S32ORsRNtVVk"
      },
      "source": [
        "from sklearn.preprocessing import OneHotEncoder"
      ],
      "execution_count": 69,
      "outputs": []
    },
    {
      "cell_type": "code",
      "metadata": {
        "id": "5B4zetWUsvDN",
        "outputId": "075c62e4-30c9-40c5-a6d9-e1751cff9ae7",
        "colab": {
          "base_uri": "https://localhost:8080/"
        }
      },
      "source": [
        "x_train = x_train.reshape(x_train.shape[0], -1)\n",
        "y_train = y_train.reshape(y_train.shape[0], -1)\n",
        "y_train = OneHotEncoder().fit_transform(y_train)\n",
        "y_train = y_train.toarray()\n",
        "\n",
        "x_train.shape, y_train.shape"
      ],
      "execution_count": 70,
      "outputs": [
        {
          "output_type": "execute_result",
          "data": {
            "text/plain": [
              "((60000, 784), (60000, 10))"
            ]
          },
          "metadata": {
            "tags": []
          },
          "execution_count": 70
        }
      ]
    },
    {
      "cell_type": "code",
      "metadata": {
        "id": "bVvMiM5CvGS4"
      },
      "source": [
        "y_test_dummy = OneHotEncoder().fit_transform(y_test.reshape(-1, 1))\n",
        "y_test_dummy = y_test_dummy.toarray()"
      ],
      "execution_count": 71,
      "outputs": []
    },
    {
      "cell_type": "code",
      "metadata": {
        "id": "EAAmy6rpvW3-",
        "outputId": "218a9af1-8a52-487d-d893-cb5606c1ad10",
        "colab": {
          "base_uri": "https://localhost:8080/"
        }
      },
      "source": [
        "y_test_dummy.shape"
      ],
      "execution_count": 72,
      "outputs": [
        {
          "output_type": "execute_result",
          "data": {
            "text/plain": [
              "(10000, 10)"
            ]
          },
          "metadata": {
            "tags": []
          },
          "execution_count": 72
        }
      ]
    },
    {
      "cell_type": "code",
      "metadata": {
        "id": "XrsKjuHzqDd0",
        "outputId": "85250c54-6e88-4517-eba0-3c53544d4f5e",
        "colab": {
          "base_uri": "https://localhost:8080/"
        }
      },
      "source": [
        "x_train = x_train / 255.0 # 정규화\n",
        "x_train.shape"
      ],
      "execution_count": 73,
      "outputs": [
        {
          "output_type": "execute_result",
          "data": {
            "text/plain": [
              "(60000, 784)"
            ]
          },
          "metadata": {
            "tags": []
          },
          "execution_count": 73
        }
      ]
    },
    {
      "cell_type": "code",
      "metadata": {
        "id": "6FM_Gyg5vfX8",
        "outputId": "6b0e60b1-543a-464b-fe0f-5b9d306aa11b",
        "colab": {
          "base_uri": "https://localhost:8080/"
        }
      },
      "source": [
        "x_test = x_test.reshape(x_test.shape[0], -1)\n",
        "x_test = x_test / 255.0\n",
        "x_test.shape"
      ],
      "execution_count": 76,
      "outputs": [
        {
          "output_type": "execute_result",
          "data": {
            "text/plain": [
              "(10000, 784)"
            ]
          },
          "metadata": {
            "tags": []
          },
          "execution_count": 76
        }
      ]
    },
    {
      "cell_type": "markdown",
      "metadata": {
        "id": "Q38NYltTv205"
      },
      "source": [
        "# 훈련\n",
        "\n",
        "* 미니 배치 선정\n",
        "* 반복 횟수 설정\n",
        "* 학습률 설정"
      ]
    },
    {
      "cell_type": "code",
      "metadata": {
        "id": "lop2Alj2voBA",
        "outputId": "c9f4baf7-2a78-4d0b-f207-fc768942dd6e",
        "colab": {
          "base_uri": "https://localhost:8080/",
          "height": 572,
          "referenced_widgets": [
            "d907080f3a154a8e905c3011596dce48",
            "69dde89feef84e5e9c51d0262421fbad",
            "7048b02c66f5411588b8b07223701b53",
            "beb19e05f11e413996cac8a851047937",
            "acacc5934cc94d518624097117860f65",
            "4907015203fe4618b000ff032cddf8a1",
            "233a39759a06470f84c9ae7a8ff12006",
            "af37c77c3cfe41db90c65d9779bf80b4"
          ]
        }
      },
      "source": [
        "from tqdm import tqdm_notebook # 작업이 끝날 예상시간을 알려줌\n",
        "\n",
        "# 반복횟수\n",
        "iter_nums = 10000\n",
        "\n",
        "# 미니배치 설정\n",
        "train_size = x_train.shape[0]\n",
        "batch_size = 100\n",
        "\n",
        "# 학습률\n",
        "learning_rate = 0.1\n",
        "\n",
        "network = TwoLayerNet(input_size=28*28, hidden_size=100, output_size=10)\n",
        "\n",
        "# 반복하고\n",
        "# 배치 만들고\n",
        "# 기울기 구하고\n",
        "# Loss 구하고\n",
        "\n",
        "for i in tqdm_notebook(range(iter_nums)):\n",
        "  # 미니 배치 인덱스 선정\n",
        "  batch_mask = np.random.choice(train_size, batch_size)\n",
        "  x_batch = x_train[batch_mask]\n",
        "  t_batch = y_train[batch_mask]\n",
        "\n",
        "  # 각 배치 마다의 기울기를 계산\n",
        "  # network의 numerical_gradient에서 하는 일\n",
        "  #   1. 예측\n",
        "  #   2. cross_entropy_error를 이용한 Loss 구하기\n",
        "  #   3. 구해신 Loss값을 이용해 미분을 수행해서 각 층의 매개변수 기울기를 저장\n",
        "\n",
        "  grads = network.numerical_gradient(x_batch, t_batch)\n",
        "\n",
        "  for key in grads.keys():\n",
        "    network.params[key] -= learning_rate * grads[key]\n",
        "\n",
        "  # 갱신된 Loss 확인하기\n",
        "  loss = network.loss(x_batch, t_batch)\n",
        "  print(\"Step {} -> Loss : {}\".format(i, loss))\n"
      ],
      "execution_count": 80,
      "outputs": [
        {
          "output_type": "stream",
          "text": [
            "/usr/local/lib/python3.6/dist-packages/ipykernel_launcher.py:20: TqdmDeprecationWarning: This function will be removed in tqdm==5.0.0\n",
            "Please use `tqdm.notebook.tqdm` instead of `tqdm.tqdm_notebook`\n"
          ],
          "name": "stderr"
        },
        {
          "output_type": "display_data",
          "data": {
            "application/vnd.jupyter.widget-view+json": {
              "model_id": "d907080f3a154a8e905c3011596dce48",
              "version_minor": 0,
              "version_major": 2
            },
            "text/plain": [
              "HBox(children=(FloatProgress(value=0.0, max=10000.0), HTML(value='')))"
            ]
          },
          "metadata": {
            "tags": []
          }
        },
        {
          "output_type": "stream",
          "text": [
            "미분 시작\n",
            "Step 0 -> Loss : 2.285687041052608\n",
            "미분 시작\n"
          ],
          "name": "stdout"
        },
        {
          "output_type": "error",
          "ename": "KeyboardInterrupt",
          "evalue": "ignored",
          "traceback": [
            "\u001b[0;31m---------------------------------------------------------------------------\u001b[0m",
            "\u001b[0;31mKeyboardInterrupt\u001b[0m                         Traceback (most recent call last)",
            "\u001b[0;32m<ipython-input-80-2285211f7fa1>\u001b[0m in \u001b[0;36m<module>\u001b[0;34m()\u001b[0m\n\u001b[1;32m     30\u001b[0m   \u001b[0;31m#   3. 구해신 Loss값을 이용해 미분을 수행해서 각 층의 매개변수 기울기를 저장\u001b[0m\u001b[0;34m\u001b[0m\u001b[0;34m\u001b[0m\u001b[0;34m\u001b[0m\u001b[0m\n\u001b[1;32m     31\u001b[0m \u001b[0;34m\u001b[0m\u001b[0m\n\u001b[0;32m---> 32\u001b[0;31m   \u001b[0mgrads\u001b[0m \u001b[0;34m=\u001b[0m \u001b[0mnetwork\u001b[0m\u001b[0;34m.\u001b[0m\u001b[0mnumerical_gradient\u001b[0m\u001b[0;34m(\u001b[0m\u001b[0mx_batch\u001b[0m\u001b[0;34m,\u001b[0m \u001b[0mt_batch\u001b[0m\u001b[0;34m)\u001b[0m\u001b[0;34m\u001b[0m\u001b[0;34m\u001b[0m\u001b[0m\n\u001b[0m\u001b[1;32m     33\u001b[0m \u001b[0;34m\u001b[0m\u001b[0m\n\u001b[1;32m     34\u001b[0m   \u001b[0;32mfor\u001b[0m \u001b[0mkey\u001b[0m \u001b[0;32min\u001b[0m \u001b[0mgrads\u001b[0m\u001b[0;34m.\u001b[0m\u001b[0mkeys\u001b[0m\u001b[0;34m(\u001b[0m\u001b[0;34m)\u001b[0m\u001b[0;34m:\u001b[0m\u001b[0;34m\u001b[0m\u001b[0;34m\u001b[0m\u001b[0m\n",
            "\u001b[0;32m<ipython-input-54-eecbe33d9432>\u001b[0m in \u001b[0;36mnumerical_gradient\u001b[0;34m(self, x, t)\u001b[0m\n\u001b[1;32m     63\u001b[0m \u001b[0;34m\u001b[0m\u001b[0m\n\u001b[1;32m     64\u001b[0m     \u001b[0;31m# 1층 매개변수의 기울기 구하기 ( Loss에 대한 W1, b1의 기울기를 구한다. )\u001b[0m\u001b[0;34m\u001b[0m\u001b[0;34m\u001b[0m\u001b[0;34m\u001b[0m\u001b[0m\n\u001b[0;32m---> 65\u001b[0;31m     \u001b[0mgrads\u001b[0m\u001b[0;34m[\u001b[0m\u001b[0;34m'W1'\u001b[0m\u001b[0;34m]\u001b[0m \u001b[0;34m=\u001b[0m \u001b[0mnumerical_gradient\u001b[0m\u001b[0;34m(\u001b[0m\u001b[0mloss_W\u001b[0m\u001b[0;34m,\u001b[0m \u001b[0mself\u001b[0m\u001b[0;34m.\u001b[0m\u001b[0mparams\u001b[0m\u001b[0;34m[\u001b[0m\u001b[0;34m'W1'\u001b[0m\u001b[0;34m]\u001b[0m\u001b[0;34m)\u001b[0m\u001b[0;34m\u001b[0m\u001b[0;34m\u001b[0m\u001b[0m\n\u001b[0m\u001b[1;32m     66\u001b[0m     \u001b[0mgrads\u001b[0m\u001b[0;34m[\u001b[0m\u001b[0;34m'b1'\u001b[0m\u001b[0;34m]\u001b[0m \u001b[0;34m=\u001b[0m \u001b[0mnumerical_gradient\u001b[0m\u001b[0;34m(\u001b[0m\u001b[0mloss_W\u001b[0m\u001b[0;34m,\u001b[0m \u001b[0mself\u001b[0m\u001b[0;34m.\u001b[0m\u001b[0mparams\u001b[0m\u001b[0;34m[\u001b[0m\u001b[0;34m'b1'\u001b[0m\u001b[0;34m]\u001b[0m\u001b[0;34m)\u001b[0m\u001b[0;34m\u001b[0m\u001b[0;34m\u001b[0m\u001b[0m\n\u001b[1;32m     67\u001b[0m \u001b[0;34m\u001b[0m\u001b[0m\n",
            "\u001b[0;32m/content/common/gradient.py\u001b[0m in \u001b[0;36mnumerical_gradient\u001b[0;34m(f, x)\u001b[0m\n\u001b[1;32m     44\u001b[0m \u001b[0;34m\u001b[0m\u001b[0m\n\u001b[1;32m     45\u001b[0m         \u001b[0mx\u001b[0m\u001b[0;34m[\u001b[0m\u001b[0midx\u001b[0m\u001b[0;34m]\u001b[0m \u001b[0;34m=\u001b[0m \u001b[0mtmp_val\u001b[0m \u001b[0;34m-\u001b[0m \u001b[0mh\u001b[0m\u001b[0;34m\u001b[0m\u001b[0;34m\u001b[0m\u001b[0m\n\u001b[0;32m---> 46\u001b[0;31m         \u001b[0mfxh2\u001b[0m \u001b[0;34m=\u001b[0m \u001b[0mf\u001b[0m\u001b[0;34m(\u001b[0m\u001b[0mx\u001b[0m\u001b[0;34m)\u001b[0m \u001b[0;31m# f(x-h)\u001b[0m\u001b[0;34m\u001b[0m\u001b[0;34m\u001b[0m\u001b[0m\n\u001b[0m\u001b[1;32m     47\u001b[0m         \u001b[0mgrad\u001b[0m\u001b[0;34m[\u001b[0m\u001b[0midx\u001b[0m\u001b[0;34m]\u001b[0m \u001b[0;34m=\u001b[0m \u001b[0;34m(\u001b[0m\u001b[0mfxh1\u001b[0m \u001b[0;34m-\u001b[0m \u001b[0mfxh2\u001b[0m\u001b[0;34m)\u001b[0m \u001b[0;34m/\u001b[0m \u001b[0;34m(\u001b[0m\u001b[0;36m2\u001b[0m\u001b[0;34m*\u001b[0m\u001b[0mh\u001b[0m\u001b[0;34m)\u001b[0m\u001b[0;34m\u001b[0m\u001b[0;34m\u001b[0m\u001b[0m\n\u001b[1;32m     48\u001b[0m \u001b[0;34m\u001b[0m\u001b[0m\n",
            "\u001b[0;32m<ipython-input-54-eecbe33d9432>\u001b[0m in \u001b[0;36m<lambda>\u001b[0;34m(W)\u001b[0m\n\u001b[1;32m     57\u001b[0m     \u001b[0mprint\u001b[0m\u001b[0;34m(\u001b[0m\u001b[0;34m\"미분 시작\"\u001b[0m\u001b[0;34m)\u001b[0m\u001b[0;34m\u001b[0m\u001b[0;34m\u001b[0m\u001b[0m\n\u001b[1;32m     58\u001b[0m \u001b[0;34m\u001b[0m\u001b[0m\n\u001b[0;32m---> 59\u001b[0;31m     \u001b[0mloss_W\u001b[0m \u001b[0;34m=\u001b[0m \u001b[0;32mlambda\u001b[0m \u001b[0mW\u001b[0m\u001b[0;34m:\u001b[0m \u001b[0mself\u001b[0m\u001b[0;34m.\u001b[0m\u001b[0mloss\u001b[0m\u001b[0;34m(\u001b[0m\u001b[0mx\u001b[0m\u001b[0;34m,\u001b[0m \u001b[0mt\u001b[0m\u001b[0;34m)\u001b[0m\u001b[0;34m\u001b[0m\u001b[0;34m\u001b[0m\u001b[0m\n\u001b[0m\u001b[1;32m     60\u001b[0m \u001b[0;34m\u001b[0m\u001b[0m\n\u001b[1;32m     61\u001b[0m     \u001b[0;31m# 각 층에서 구해지는 기울기를 저장할 딕셔너리\u001b[0m\u001b[0;34m\u001b[0m\u001b[0;34m\u001b[0m\u001b[0;34m\u001b[0m\u001b[0m\n",
            "\u001b[0;32m<ipython-input-54-eecbe33d9432>\u001b[0m in \u001b[0;36mloss\u001b[0;34m(self, x, t)\u001b[0m\n\u001b[1;32m     39\u001b[0m   \u001b[0;32mdef\u001b[0m \u001b[0mloss\u001b[0m\u001b[0;34m(\u001b[0m\u001b[0mself\u001b[0m\u001b[0;34m,\u001b[0m \u001b[0mx\u001b[0m\u001b[0;34m,\u001b[0m \u001b[0mt\u001b[0m\u001b[0;34m)\u001b[0m\u001b[0;34m:\u001b[0m\u001b[0;34m\u001b[0m\u001b[0;34m\u001b[0m\u001b[0m\n\u001b[1;32m     40\u001b[0m     \u001b[0;31m# Loss를 구하기 위해서는 예측부터 한다. - 예측값과 타겟값을 이용해서 얼마나 차이나는지 구한다.\u001b[0m\u001b[0;34m\u001b[0m\u001b[0;34m\u001b[0m\u001b[0;34m\u001b[0m\u001b[0m\n\u001b[0;32m---> 41\u001b[0;31m     \u001b[0my\u001b[0m \u001b[0;34m=\u001b[0m \u001b[0mself\u001b[0m\u001b[0;34m.\u001b[0m\u001b[0mpredict\u001b[0m\u001b[0;34m(\u001b[0m\u001b[0mx\u001b[0m\u001b[0;34m)\u001b[0m\u001b[0;34m\u001b[0m\u001b[0;34m\u001b[0m\u001b[0m\n\u001b[0m\u001b[1;32m     42\u001b[0m \u001b[0;34m\u001b[0m\u001b[0m\n\u001b[1;32m     43\u001b[0m     \u001b[0;32mreturn\u001b[0m \u001b[0mcross_entropy_error\u001b[0m\u001b[0;34m(\u001b[0m\u001b[0my\u001b[0m\u001b[0;34m,\u001b[0m \u001b[0mt\u001b[0m\u001b[0;34m)\u001b[0m\u001b[0;34m\u001b[0m\u001b[0;34m\u001b[0m\u001b[0m\n",
            "\u001b[0;32m<ipython-input-54-eecbe33d9432>\u001b[0m in \u001b[0;36mpredict\u001b[0;34m(self, x)\u001b[0m\n\u001b[1;32m     28\u001b[0m \u001b[0;34m\u001b[0m\u001b[0m\n\u001b[1;32m     29\u001b[0m     \u001b[0;31m# 1층 계산\u001b[0m\u001b[0;34m\u001b[0m\u001b[0;34m\u001b[0m\u001b[0;34m\u001b[0m\u001b[0m\n\u001b[0;32m---> 30\u001b[0;31m     \u001b[0mz1\u001b[0m \u001b[0;34m=\u001b[0m \u001b[0mnp\u001b[0m\u001b[0;34m.\u001b[0m\u001b[0mdot\u001b[0m\u001b[0;34m(\u001b[0m\u001b[0mx\u001b[0m\u001b[0;34m,\u001b[0m \u001b[0mW1\u001b[0m\u001b[0;34m)\u001b[0m \u001b[0;34m+\u001b[0m \u001b[0mb1\u001b[0m\u001b[0;34m\u001b[0m\u001b[0;34m\u001b[0m\u001b[0m\n\u001b[0m\u001b[1;32m     31\u001b[0m     \u001b[0ma1\u001b[0m \u001b[0;34m=\u001b[0m \u001b[0msigmoid\u001b[0m\u001b[0;34m(\u001b[0m\u001b[0mz1\u001b[0m\u001b[0;34m)\u001b[0m\u001b[0;34m\u001b[0m\u001b[0;34m\u001b[0m\u001b[0m\n\u001b[1;32m     32\u001b[0m \u001b[0;34m\u001b[0m\u001b[0m\n",
            "\u001b[0;32m<__array_function__ internals>\u001b[0m in \u001b[0;36mdot\u001b[0;34m(*args, **kwargs)\u001b[0m\n",
            "\u001b[0;31mKeyboardInterrupt\u001b[0m: "
          ]
        }
      ]
    },
    {
      "cell_type": "code",
      "metadata": {
        "id": "1GBD49iLw_1Y"
      },
      "source": [
        ""
      ],
      "execution_count": null,
      "outputs": []
    }
  ]
}