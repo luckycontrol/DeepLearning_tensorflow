{
  "nbformat": 4,
  "nbformat_minor": 0,
  "metadata": {
    "colab": {
      "name": "11.ImageDataGenerator.ipynb",
      "provenance": [],
      "authorship_tag": "ABX9TyO0xluSJoez1GYfrTbs9xZv",
      "include_colab_link": true
    },
    "kernelspec": {
      "name": "python3",
      "display_name": "Python 3"
    }
  },
  "cells": [
    {
      "cell_type": "markdown",
      "metadata": {
        "id": "view-in-github",
        "colab_type": "text"
      },
      "source": [
        "<a href=\"https://colab.research.google.com/github/luckycontrol/DeepLearning_tensorflow/blob/main/11_ImageDataGenerator.ipynb\" target=\"_parent\"><img src=\"https://colab.research.google.com/assets/colab-badge.svg\" alt=\"Open In Colab\"/></a>"
      ]
    },
    {
      "cell_type": "markdown",
      "metadata": {
        "id": "ESEri3CnK9Xy"
      },
      "source": [
        "# ImageDataGenerator\n",
        "\n",
        "Tensorflow에서 제공하는 이미지 데이터에 대한 여러가지 옵션들을 제공\n",
        "\n",
        "## 이미지 변형 옵션들을 제공\n",
        "  - 수집한 이미지 데이터가 많이 없을 때 사용\n",
        "  - 이미지를 여러 방면으로 훈련시키기 위해서 사용\n",
        "\n"
      ]
    },
    {
      "cell_type": "code",
      "metadata": {
        "id": "mbxNDKxpK404"
      },
      "source": [
        "import matplotlib.pyplot as plt\n",
        "import numpy as np"
      ],
      "execution_count": null,
      "outputs": []
    },
    {
      "cell_type": "code",
      "metadata": {
        "id": "TnIoC5yBLhJT",
        "outputId": "552fab12-42ad-4fe2-d311-e86cefc72035",
        "colab": {
          "base_uri": "https://localhost:8080/"
        }
      },
      "source": [
        "import tensorflow as tf \n",
        "from tensorflow.keras.datasets import mnist\n",
        "\n",
        "(x_train, y_train), (x_test, y_test) = mnist.load_data()"
      ],
      "execution_count": null,
      "outputs": [
        {
          "output_type": "stream",
          "text": [
            "Downloading data from https://storage.googleapis.com/tensorflow/tf-keras-datasets/mnist.npz\n",
            "11493376/11490434 [==============================] - 0s 0us/step\n"
          ],
          "name": "stdout"
        }
      ]
    },
    {
      "cell_type": "code",
      "metadata": {
        "id": "6ZPzTIO7Lrsv"
      },
      "source": [
        "x_train = x_train[..., tf.newaxis]\n",
        "x_test = x_test[..., tf.newaxis]\n",
        "\n",
        "x_train, x_test = x_train / 255.0, x_test / 255.0"
      ],
      "execution_count": null,
      "outputs": []
    },
    {
      "cell_type": "code",
      "metadata": {
        "id": "GztM86RZMBAM",
        "outputId": "ce8360dd-c615-43cc-e769-47dded8d6fb0",
        "colab": {
          "base_uri": "https://localhost:8080/"
        }
      },
      "source": [
        "image = x_train[0]\n",
        "image.shape"
      ],
      "execution_count": null,
      "outputs": [
        {
          "output_type": "execute_result",
          "data": {
            "text/plain": [
              "(28, 28, 1)"
            ]
          },
          "metadata": {
            "tags": []
          },
          "execution_count": 5
        }
      ]
    },
    {
      "cell_type": "code",
      "metadata": {
        "id": "XH1vSIRjMFZA",
        "outputId": "b000ccea-05d5-4cd2-8df3-f3eb280018cc",
        "colab": {
          "base_uri": "https://localhost:8080/",
          "height": 265
        }
      },
      "source": [
        "plt.imshow(image[:, :, 0], 'gray')\n",
        "plt.show()"
      ],
      "execution_count": null,
      "outputs": [
        {
          "output_type": "display_data",
          "data": {
            "image/png": "[encoded data removed]",
            "text/plain": [
              "<Figure size 432x288 with 1 Axes>"
            ]
          },
          "metadata": {
            "tags": [],
            "needs_background": "light"
          }
        }
      ]
    },
    {
      "cell_type": "markdown",
      "metadata": {
        "id": "uHy6w_n7MUHQ"
      },
      "source": [
        "# Augmentation\n",
        "원래 존재하던 이미지에 추가적인 정보를 넣어주는 것."
      ]
    },
    {
      "cell_type": "code",
      "metadata": {
        "id": "e4MMIZ_RMZ47"
      },
      "source": [
        "from tensorflow.keras.preprocessing.image import ImageDataGenerator"
      ],
      "execution_count": null,
      "outputs": []
    },
    {
      "cell_type": "code",
      "metadata": {
        "id": "i_Gc6tCfMh6-"
      },
      "source": [
        "data_gen = ImageDataGenerator(\n",
        "    rotation_range = 20,  # 최대 20도 각도로 이미지가 회전\n",
        "    width_shift_range= 0.2,  # 좌우로 최대 20% 만큼 이미지가 움직임\n",
        "    height_shift_range = 0.2,  # 상하로 최대 20%만큼 이미지가 움직임\n",
        "    horizontal_flip = True,  # 좌우반전\n",
        "    vertical_flip = True, # 상하반전\n",
        ")"
      ],
      "execution_count": null,
      "outputs": []
    },
    {
      "cell_type": "code",
      "metadata": {
        "id": "wuIopCoDNbB-",
        "outputId": "e5085f2c-75c3-449b-ea19-6809372e6b65",
        "colab": {
          "base_uri": "https://localhost:8080/"
        }
      },
      "source": [
        "inputs_demo = image[tf.newaxis, ...]\n",
        "inputs_demo.shape"
      ],
      "execution_count": null,
      "outputs": [
        {
          "output_type": "execute_result",
          "data": {
            "text/plain": [
              "(1, 28, 28, 1)"
            ]
          },
          "metadata": {
            "tags": []
          },
          "execution_count": 18
        }
      ]
    },
    {
      "cell_type": "code",
      "metadata": {
        "id": "pDDq7KpENosP"
      },
      "source": [
        "# flow 함수는 데이터의 배치를 만드는 기능이 있다.\n",
        "\n",
        "demo_ds = data_gen.flow(inputs_demo)\n",
        "gen_image = next(iter(demo_ds))"
      ],
      "execution_count": null,
      "outputs": []
    },
    {
      "cell_type": "code",
      "metadata": {
        "id": "oSK2UTptN8aW",
        "outputId": "3ac24aaf-3ffe-40aa-9de6-0ff0a16064ea",
        "colab": {
          "base_uri": "https://localhost:8080/"
        }
      },
      "source": [
        "gen_image.shape"
      ],
      "execution_count": null,
      "outputs": [
        {
          "output_type": "execute_result",
          "data": {
            "text/plain": [
              "(1, 28, 28, 1)"
            ]
          },
          "metadata": {
            "tags": []
          },
          "execution_count": 20
        }
      ]
    },
    {
      "cell_type": "markdown",
      "metadata": {
        "id": "CJVv7fRkOIp4"
      },
      "source": [
        "비교를 위해 시각화하기"
      ]
    },
    {
      "cell_type": "code",
      "metadata": {
        "id": "VUiY-UoNOFUt",
        "outputId": "66eed76b-e258-477e-e3c3-8859165699a0",
        "colab": {
          "base_uri": "https://localhost:8080/",
          "height": 216
        }
      },
      "source": [
        "plt.subplot(1, 2, 1)\n",
        "plt.imshow(np.squeeze(inputs_demo), 'gray')\n",
        "plt.title('Original Image')\n",
        "\n",
        "plt.subplot(1, 2, 2)\n",
        "plt.title('Augmented Image')\n",
        "plt.imshow(np.squeeze(gen_image), 'gray')\n",
        "\n",
        "plt.show()"
      ],
      "execution_count": null,
      "outputs": [
        {
          "output_type": "display_data",
          "data": {
            "image/png": "[encoded data removed]",
            "text/plain": [
              "<Figure size 432x288 with 2 Axes>"
            ]
          },
          "metadata": {
            "tags": [],
            "needs_background": "light"
          }
        }
      ]
    },
    {
      "cell_type": "markdown",
      "metadata": {
        "id": "RhQjlEDQO_ov"
      },
      "source": [
        "# ImageDataGenerator 변형 옵션\n",
        "\n",
        "  - width_shift_range : 좌우 이동 범위 지정\n",
        "  - height_shift_range : 상하 이동 범위 지정\n",
        "  - brightness_range : 밝기 조절\n",
        "  - zoom_range : 확대\n",
        "  - horizontal_flip : 좌우반전 여부 ( True / False )\n",
        "  - vertical_flip : 상하반전 여부 ( True / False )\n",
        "  - rescale : 데이터 크기조정"
      ]
    },
    {
      "cell_type": "code",
      "metadata": {
        "id": "EJEUonx-OaxT"
      },
      "source": [
        "# train 데이터에 rescale이 사용되었으면, test_data generator에도 rescale이 들어가야한다.\n",
        "\n",
        "train_datagen = ImageDataGenerator(\n",
        "    zoom_range=0.7,\n",
        "    # rescale=1./255.\n",
        ")\n",
        "\n",
        "# test_datagen = ImageDataGenerator(\n",
        "#     rescale=1./255.\n",
        "# )"
      ],
      "execution_count": null,
      "outputs": []
    }
  ]
}