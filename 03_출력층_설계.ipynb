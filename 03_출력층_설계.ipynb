{
  "nbformat": 4,
  "nbformat_minor": 0,
  "metadata": {
    "colab": {
      "name": "03. 출력층 설계.ipynb",
      "provenance": [],
      "collapsed_sections": [],
      "authorship_tag": "ABX9TyNL0ztNnTF4fSx+9ltAwR0R",
      "include_colab_link": true
    },
    "kernelspec": {
      "name": "python3",
      "display_name": "Python 3"
    }
  },
  "cells": [
    {
      "cell_type": "markdown",
      "metadata": {
        "id": "view-in-github",
        "colab_type": "text"
      },
      "source": [
        "<a href=\"https://colab.research.google.com/github/luckycontrol/DeepLearning_tensorflow/blob/main/03_%EC%B6%9C%EB%A0%A5%EC%B8%B5_%EC%84%A4%EA%B3%84.ipynb\" target=\"_parent\"><img src=\"https://colab.research.google.com/assets/colab-badge.svg\" alt=\"Open In Colab\"/></a>"
      ]
    },
    {
      "cell_type": "markdown",
      "metadata": {
        "id": "OeKZMm3teZjM"
      },
      "source": [
        "# 소프트맥스 사용해보기"
      ]
    },
    {
      "cell_type": "code",
      "metadata": {
        "id": "TcflazKfVQJH",
        "outputId": "cd6b4eb9-b4bb-48b0-89e6-703ca426b48f",
        "colab": {
          "base_uri": "https://localhost:8080/"
        }
      },
      "source": [
        "import numpy as np\n",
        "\n",
        "# 소프트맥스 함수 사용해보기\n",
        "\n",
        "a = np.array([0.3, 2.9, 4.0]) # 출력층 뉴런이 3개\n",
        "\n",
        "# numpy exp는 밑이 e(자연상수)인 지수함수로 만든다.\n",
        "exp_a = np.exp(a) # 모든 입력값에 대해 지수함수 적용 - 분자\n",
        "\n",
        "sum_exp_a = sum(np.exp(a)) # 분모 구하기\n",
        "\n",
        "# 신경망의 최종 예측\n",
        "y = exp_a / sum_exp_a\n",
        "\n",
        "print(y) # 각각의 확률\n",
        "print(np.sum(y)) # 전체는 1\n",
        "\n",
        "# 입력값의 크기순서와 출력값의 크기순서가 같다 = 단조함수.\n"
      ],
      "execution_count": null,
      "outputs": [
        {
          "output_type": "stream",
          "text": [
            "[0.01821127 0.24519181 0.73659691]\n",
            "1.0\n"
          ],
          "name": "stdout"
        }
      ]
    },
    {
      "cell_type": "code",
      "metadata": {
        "id": "IC4IKlwKWxoj"
      },
      "source": [
        "# 함수로 구현한 소프트맥스 ( 나쁜버전 )\n",
        "def softmax(a):\n",
        "  exp_a = np.exp(a) # 분자\n",
        "  sum_exp_a = sum(np.exp(a)) # 분모\n",
        "\n",
        "  y = exp_a / sum_exp_a # 나누기\n",
        "  return y"
      ],
      "execution_count": null,
      "outputs": []
    },
    {
      "cell_type": "code",
      "metadata": {
        "id": "-OY1sIKTY9O0",
        "outputId": "1ed3a989-c1ef-43b6-819d-9a9744bd4e3b",
        "colab": {
          "base_uri": "https://localhost:8080/"
        }
      },
      "source": [
        "# 왜 나쁠까? - 지수함수는 큰 값을 너무 크게 만든다.\n",
        "a = np.array([1010, 1000, 990])\n",
        "print(np.exp(a) / np.sum(np.exp(a)))\n",
        "\n",
        "# 따라서 튜닝을 해야한다. 어떻게? - 로그를 씌워서."
      ],
      "execution_count": null,
      "outputs": [
        {
          "output_type": "stream",
          "text": [
            "[nan nan nan]\n"
          ],
          "name": "stdout"
        },
        {
          "output_type": "stream",
          "text": [
            "/usr/local/lib/python3.6/dist-packages/ipykernel_launcher.py:3: RuntimeWarning: overflow encountered in exp\n",
            "  This is separate from the ipykernel package so we can avoid doing imports until\n",
            "/usr/local/lib/python3.6/dist-packages/ipykernel_launcher.py:3: RuntimeWarning: invalid value encountered in true_divide\n",
            "  This is separate from the ipykernel package so we can avoid doing imports until\n"
          ],
          "name": "stderr"
        }
      ]
    },
    {
      "cell_type": "markdown",
      "metadata": {
        "id": "hEMhb4rLacd2"
      },
      "source": [
        "개선된 softmax 구현하기"
      ]
    },
    {
      "cell_type": "code",
      "metadata": {
        "id": "av212vMVZFuu",
        "outputId": "d5fcfe22-7ca7-48cd-b076-554d3a4625f8",
        "colab": {
          "base_uri": "https://localhost:8080/"
        }
      },
      "source": [
        "# 튜닝을 하기위한 상수 c\n",
        "c = np.max(a) # c는 입력값의 제일 큰 값으로 하는 것이 일반적\n",
        "print(a-c)"
      ],
      "execution_count": null,
      "outputs": [
        {
          "output_type": "stream",
          "text": [
            "[  0 -10 -20]\n"
          ],
          "name": "stdout"
        }
      ]
    },
    {
      "cell_type": "code",
      "metadata": {
        "id": "bGf5r6uBaukg",
        "outputId": "9aac3582-fa5e-415c-a800-52010c231c97",
        "colab": {
          "base_uri": "https://localhost:8080/"
        }
      },
      "source": [
        "# a-c를 softmax 함수에 적용한다.\n",
        "print(np.exp(a-c) / np.sum(np.exp(a-c))) # a-c는 a + log(c)와 같다."
      ],
      "execution_count": null,
      "outputs": [
        {
          "output_type": "stream",
          "text": [
            "[9.99954600e-01 4.53978686e-05 2.06106005e-09]\n"
          ],
          "name": "stdout"
        }
      ]
    },
    {
      "cell_type": "markdown",
      "metadata": {
        "id": "Fg4mC0-qbj4H"
      },
      "source": [
        ""
      ]
    },
    {
      "cell_type": "code",
      "metadata": {
        "id": "uzs5e3UKa2W1"
      },
      "source": [
        "# 튜닝된 소프트맥스 함수\n",
        "def softmax(a):\n",
        "  c = np.max(a)\n",
        "  exp_a = np.exp(a)\n",
        "  sum_exp_a = np.sum(np.exp(a))\n",
        "\n",
        "  y = exp_a / sum_exp_a\n",
        "  return y"
      ],
      "execution_count": null,
      "outputs": []
    },
    {
      "cell_type": "markdown",
      "metadata": {
        "id": "hql-KTXLeODt"
      },
      "source": [
        "# 출력층 설계를 위해 필요한 것\n",
        "- 출력함수\n",
        "- 분류 문제는 출력층의 뉴런 갯수 정하기"
      ]
    },
    {
      "cell_type": "code",
      "metadata": {
        "id": "ycd73cSobUqE"
      },
      "source": [
        "# tensorflow의 keras를 이용해서 MNIST 불러오기\n",
        "import tensorflow as tf\n",
        "import matplotlib.pyplot as plt\n",
        "%matplotlib inline\n",
        "import seaborn as sns\n",
        "sns.set()"
      ],
      "execution_count": null,
      "outputs": []
    },
    {
      "cell_type": "code",
      "metadata": {
        "id": "Cjp0nIuwg20k"
      },
      "source": [
        "# mnist 데이터셋 로딩\n",
        "from tensorflow.keras import datasets\n",
        "mnist = datasets.mnist"
      ],
      "execution_count": null,
      "outputs": []
    },
    {
      "cell_type": "code",
      "metadata": {
        "id": "T8ycuGd1g_WK",
        "outputId": "b012c366-a4a3-4388-d06a-567c16a05011",
        "colab": {
          "base_uri": "https://localhost:8080/"
        }
      },
      "source": [
        "(x_train, y_train), (x_test, y_test) = mnist.load_data()"
      ],
      "execution_count": null,
      "outputs": [
        {
          "output_type": "stream",
          "text": [
            "Downloading data from https://storage.googleapis.com/tensorflow/tf-keras-datasets/mnist.npz\n",
            "11493376/11490434 [==============================] - 0s 0us/step\n"
          ],
          "name": "stdout"
        }
      ]
    },
    {
      "cell_type": "markdown",
      "metadata": {
        "id": "nRWBqgFXhQ2a"
      },
      "source": [
        "항상 데이터의 shape부터 확인해야한다."
      ]
    },
    {
      "cell_type": "code",
      "metadata": {
        "id": "6fph6ix8hHOB",
        "outputId": "19784616-507f-4ba9-ff11-c63167c3a273",
        "colab": {
          "base_uri": "https://localhost:8080/"
        }
      },
      "source": [
        "x_train.shape, y_train.shape"
      ],
      "execution_count": null,
      "outputs": [
        {
          "output_type": "execute_result",
          "data": {
            "text/plain": [
              "((60000, 28, 28), (60000,))"
            ]
          },
          "metadata": {
            "tags": []
          },
          "execution_count": 14
        }
      ]
    },
    {
      "cell_type": "code",
      "metadata": {
        "id": "xaLooD04hfne",
        "outputId": "a621c40a-e0c1-436a-d8b7-29ba9a81b12a",
        "colab": {
          "base_uri": "https://localhost:8080/"
        }
      },
      "source": [
        "# 이미지를 시각화 해보기\n",
        "\n",
        "image = x_train[1]\n",
        "image.shape"
      ],
      "execution_count": null,
      "outputs": [
        {
          "output_type": "execute_result",
          "data": {
            "text/plain": [
              "(28, 28)"
            ]
          },
          "metadata": {
            "tags": []
          },
          "execution_count": 22
        }
      ]
    },
    {
      "cell_type": "code",
      "metadata": {
        "id": "H05LCLCtieod",
        "outputId": "f6d2d67d-26c8-4f6a-96de-9c99a3c15136",
        "colab": {
          "base_uri": "https://localhost:8080/",
          "height": 284
        }
      },
      "source": [
        "plt.imshow(image, \"gray\")\n",
        "plt.title(y_train[0])\n",
        "plt.grid(False)\n",
        "plt.show()"
      ],
      "execution_count": null,
      "outputs": [
        {
          "output_type": "display_data",
          "data": {
            "image/png": "[encoded data removed]",
            "text/plain": [
              "<Figure size 432x288 with 1 Axes>"
            ]
          },
          "metadata": {
            "tags": []
          }
        }
      ]
    },
    {
      "cell_type": "code",
      "metadata": {
        "id": "SzXfYUBAipQ2",
        "outputId": "b3f163f7-80d4-43c4-ebfe-17705bf0f12a",
        "colab": {
          "base_uri": "https://localhost:8080/",
          "height": 284
        }
      },
      "source": [
        "plt.imshow(image, 'gray')\n",
        "plt.grid(False)\n",
        "plt.title(y_train[1])\n",
        "plt.show()"
      ],
      "execution_count": null,
      "outputs": [
        {
          "output_type": "display_data",
          "data": {
            "image/png": "[encoded data removed]",
            "text/plain": [
              "<Figure size 432x288 with 1 Axes>"
            ]
          },
          "metadata": {
            "tags": []
          }
        }
      ]
    },
    {
      "cell_type": "markdown",
      "metadata": {
        "id": "s9I4tgXCjh2S"
      },
      "source": [
        "신경망에 넣을 준비 - 준비할 신경망은 Fully Connected Layer\n",
        "\n",
        "데이터가 1차원 데이터 형태여야 한다. ( flatten )"
      ]
    },
    {
      "cell_type": "code",
      "metadata": {
        "id": "_xdNvn63jGSn",
        "outputId": "ace9a8a8-22b5-472a-b93a-0afe2008dd4c",
        "colab": {
          "base_uri": "https://localhost:8080/"
        }
      },
      "source": [
        "image = image.reshape(-1)\n",
        "image.shape"
      ],
      "execution_count": null,
      "outputs": [
        {
          "output_type": "execute_result",
          "data": {
            "text/plain": [
              "(784,)"
            ]
          },
          "metadata": {
            "tags": []
          },
          "execution_count": 24
        }
      ]
    },
    {
      "cell_type": "code",
      "metadata": {
        "id": "oRH5XjiCljvq",
        "outputId": "102ff2f2-c0b3-476a-ce82-949b628abc4f",
        "colab": {
          "base_uri": "https://localhost:8080/",
          "height": 268
        }
      },
      "source": [
        "image_return = image.reshape(28, 28)\n",
        "plt.imshow(image_return, \"gray\")\n",
        "plt.grid(False)\n",
        "plt.show()"
      ],
      "execution_count": null,
      "outputs": [
        {
          "output_type": "display_data",
          "data": {
            "image/png": "[encoded data removed]",
            "text/plain": [
              "<Figure size 432x288 with 1 Axes>"
            ]
          },
          "metadata": {
            "tags": []
          }
        }
      ]
    },
    {
      "cell_type": "markdown",
      "metadata": {
        "id": "4oYSQHoXmkeC"
      },
      "source": [
        "MNIST 신경망 만들기 - Fully Connected 방식"
      ]
    },
    {
      "cell_type": "code",
      "metadata": {
        "id": "rtsMQ-tElv9D"
      },
      "source": [
        "# 활성화 함수 - 시그모이드\n",
        "\n",
        "def sigmoid(x):\n",
        "  return 1 / (1 + np.exp(-x))\n",
        "\n",
        "# 테스트 데이터 가져오기\n",
        "def get_test_data():\n",
        "  # (10000, 784 만들기)\n",
        "  (x_train, y_train), (x_test, y_test) = mnist.load_data()\n",
        "\n",
        "  image_size = x_test.shape[0]\n",
        "  x_test_reshaped = x_test.reshape(image_size, -1)\n",
        "\n",
        "  return x_test_reshaped\n",
        "\n",
        "# 훈련된 신경망 가져오기\n",
        "def init_network():\n",
        "  import pickle\n",
        "  with open(\"./sample_weight.pkl\", \"rb\") as f:\n",
        "    network = pickle.load(f)\n",
        "\n",
        "  return network\n",
        "\n",
        "# 예측함수 만들기\n",
        "def predict(network, x):\n",
        "  W1, W2, W3 = network['W1'], network['W2'], network['W3']\n",
        "  b1, b2, b3 = network['b1'], network['b2'], network['b3']\n",
        "\n",
        "  # 구현시 발생하는 대부분의 오류는 shape 때문.\n",
        "  # 1. 각 층은 입력되는 값과 해당층의 가중치를 곱하고 편향을 더한다.\n",
        "  # 2. (1)에 계산된 값에 활성화 함수를 적용하고 다음 층으로 넘긴다.\n",
        "\n",
        "  # Layer1 계산 ( 입력 : x )\n",
        "  a1 = np.dot(x, W1) + b1\n",
        "  a1 = sigmoid(a1)\n",
        "\n",
        "  # Layer2 계산 ( 입력 : a1 )\n",
        "  a2 = np.dot(a1, W2) + b2\n",
        "  a2 = sigmoid(a2)\n",
        "\n",
        "  # Layer3 계산 ( 입력 : a2 )\n",
        "  a3 = np.dot(a2, W3) + b3\n",
        "  y = softmax(a3)\n",
        "\n",
        "  return y"
      ],
      "execution_count": null,
      "outputs": []
    },
    {
      "cell_type": "code",
      "metadata": {
        "id": "98Fjrb1Pz1Eo",
        "outputId": "a500eba6-14b1-495a-8b09-271bddac8314",
        "colab": {
          "base_uri": "https://localhost:8080/",
          "height": 244
        }
      },
      "source": [
        "x, y = get_test_data()\n",
        "\n",
        "network = init_network()\n",
        "\n",
        "accuracy_count = 0 # 맞춘 갯수\n",
        "\n",
        "for i in range(len(x)):\n",
        "  pred = predict(network, x[i])\n",
        "  pred = np.argmax(pred) #  확률이 가장 높은 것의 인덱스\n",
        "\n",
        "  if pred == y[i]:\n",
        "    accuracy_count += 1\n",
        "\n",
        "print(float(accuracy_count) / el)"
      ],
      "execution_count": null,
      "outputs": [
        {
          "output_type": "error",
          "ename": "ValueError",
          "evalue": "ignored",
          "traceback": [
            "\u001b[0;31m---------------------------------------------------------------------------\u001b[0m",
            "\u001b[0;31mValueError\u001b[0m                                Traceback (most recent call last)",
            "\u001b[0;32m<ipython-input-100-7efc39d76345>\u001b[0m in \u001b[0;36m<module>\u001b[0;34m()\u001b[0m\n\u001b[0;32m----> 1\u001b[0;31m \u001b[0mx\u001b[0m\u001b[0;34m,\u001b[0m \u001b[0my\u001b[0m \u001b[0;34m=\u001b[0m \u001b[0mget_test_data\u001b[0m\u001b[0;34m(\u001b[0m\u001b[0;34m)\u001b[0m\u001b[0;34m\u001b[0m\u001b[0;34m\u001b[0m\u001b[0m\n\u001b[0m\u001b[1;32m      2\u001b[0m \u001b[0;34m\u001b[0m\u001b[0m\n\u001b[1;32m      3\u001b[0m \u001b[0mnetwork\u001b[0m \u001b[0;34m=\u001b[0m \u001b[0minit_network\u001b[0m\u001b[0;34m(\u001b[0m\u001b[0;34m)\u001b[0m\u001b[0;34m\u001b[0m\u001b[0;34m\u001b[0m\u001b[0m\n\u001b[1;32m      4\u001b[0m \u001b[0;34m\u001b[0m\u001b[0m\n\u001b[1;32m      5\u001b[0m \u001b[0maccuracy_count\u001b[0m \u001b[0;34m=\u001b[0m \u001b[0;36m0\u001b[0m \u001b[0;31m# 맞춘 갯수\u001b[0m\u001b[0;34m\u001b[0m\u001b[0;34m\u001b[0m\u001b[0m\n",
            "\u001b[0;31mValueError\u001b[0m: too many values to unpack (expected 2)"
          ]
        }
      ]
    },
    {
      "cell_type": "markdown",
      "metadata": {
        "id": "Sv27vrvF0oDx"
      },
      "source": [
        "위 처럼 했을 때 단점 - 10000장을 한 장씩 검사한다.\n",
        "\n",
        "그래서 batch를 사용한다. ( 랜덤으로 자르면 : 미니 batch )\n",
        "\n",
        "배치의 종류에 따라서 경사하강법의 종류가 달라진다.   \n",
        "GD - batch 사용.  \n",
        "SGC - 미니 batch 사용.  ( 훨씬 많이 사용된다. )"
      ]
    },
    {
      "cell_type": "code",
      "metadata": {
        "id": "oY0fSIx00S_B"
      },
      "source": [
        "x, y = get_test_data()\n",
        "\n",
        "network = init_network()\n",
        "\n",
        "# 배치란 : 데이터의 묶음\n",
        "# batch_size : 1 batch 당 들어있어야 하는 데이터의 갯수\n",
        "# ex) 60000개의 데이터를 batch_size = 100 으로 묶으면 600개의 데이터가 생긴다.\n",
        "# 배치를 활용해 60000개의 데이터를 모두 학습시켯으면, 1 epoch 이라고 한다."
      ],
      "execution_count": null,
      "outputs": []
    },
    {
      "cell_type": "code",
      "metadata": {
        "id": "PO5XzgXr2ecp"
      },
      "source": [
        "batch_size = 100\n",
        "accuracy_cnt = 0\n",
        "\n",
        "for i in range(0, len(X), batch_size):\n",
        "  X_batch = X[i : i + batch_size] # 순서대로 100개씩 데이터를 쪼갬\n",
        "  y_batch = predict(network, X_batch) # 데이터를 100개씩 예측\n",
        "\n",
        "  p = np.argmax(y_batch, axis=1) # 100개의 예측 데이터에서 가장 높은 값의 인덱스를 추출\n",
        "  accuracy_cnt += np.sum( p == y[i : i + batch_size]) # 100개씩 정답의 합을 구함\n",
        "\n",
        "print(float(accuracy_cnt) / len(X))"
      ],
      "execution_count": null,
      "outputs": []
    },
    {
      "cell_type": "markdown",
      "metadata": {
        "id": "1cXVATB8I0Zc"
      },
      "source": [
        "np.argmax의 axis가 1인 이유\n",
        " - softmax의 결과는 10개의 원소를 가진 1차원 배열.\n",
        " - 이 결과물이 100개씩 묶음 지어져 있다. ( batch )\n",
        " - np.argmax의 axis 1로 각 행별로 최대값의 인덱스를 구한다.  \n",
        "\n",
        "\n",
        "데이터가 늘어나는 방향이 기준이 된다.  \n",
        "데이터가 늘어나는 방향이 1이기에..."
      ]
    },
    {
      "cell_type": "code",
      "metadata": {
        "id": "8P0EhBqg97N8"
      },
      "source": [
        ""
      ],
      "execution_count": null,
      "outputs": []
    }
  ]
}