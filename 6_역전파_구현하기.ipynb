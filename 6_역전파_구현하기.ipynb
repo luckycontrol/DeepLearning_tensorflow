{
  "nbformat": 4,
  "nbformat_minor": 0,
  "metadata": {
    "colab": {
      "name": "6.역전파 구현하기.ipynb",
      "provenance": [],
      "authorship_tag": "ABX9TyPd30IlENSnuYQe4ynn3iD7",
      "include_colab_link": true
    },
    "kernelspec": {
      "name": "python3",
      "display_name": "Python 3"
    }
  },
  "cells": [
    {
      "cell_type": "markdown",
      "metadata": {
        "id": "view-in-github",
        "colab_type": "text"
      },
      "source": [
        "<a href=\"https://colab.research.google.com/github/luckycontrol/DeepLearning_tensorflow/blob/main/6_%EC%97%AD%EC%A0%84%ED%8C%8C_%EA%B5%AC%ED%98%84%ED%95%98%EA%B8%B0.ipynb\" target=\"_parent\"><img src=\"https://colab.research.google.com/assets/colab-badge.svg\" alt=\"Open In Colab\"/></a>"
      ]
    },
    {
      "cell_type": "code",
      "metadata": {
        "id": "EtmWzRslwgXT"
      },
      "source": [
        "# 곱셈계층\n",
        "class MulLayer:\n",
        "\n",
        "  # 초기화 : 객체에서 사용할 변수를 미리 준비\n",
        "  def __init__(self):\n",
        "    self.x = None\n",
        "    self.y = None\n",
        "\n",
        "  # x, y를 곱해서 리턴.\n",
        "  # 계산되는 값들을 저장하고 있어야 한다.\n",
        "  def forward(self, x, y):\n",
        "    self.x = x\n",
        "    self.y = y\n",
        "\n",
        "    out = x * y\n",
        "    return out\n",
        "\n",
        "  # dout : 뒤에서 넘어온 미분값.\n",
        "  # dx = dout * y\n",
        "  # dy = dout * x\n",
        "  def backward(self, dout):\n",
        "    dx = dout * self.y\n",
        "    dy = dout * self.x\n",
        "\n",
        "    return dx, dy"
      ],
      "execution_count": null,
      "outputs": []
    },
    {
      "cell_type": "code",
      "metadata": {
        "id": "0DeQ5gFT0sgp",
        "outputId": "cb31e685-eafd-402c-a23b-68fe32df7b99",
        "colab": {
          "base_uri": "https://localhost:8080/"
        }
      },
      "source": [
        "apple = 100 # 사과 갯수 1개의 가격\n",
        "apple_cnt = 2 # 사과의 갯수\n",
        "tax = 1.1 # 소비세\n",
        "\n",
        "# 계층은 2개\n",
        "# (apple * apple_cnt) * tax\n",
        "mul_apple_layer = MulLayer()\n",
        "mul_tax_layer = MulLayer()\n",
        "\n",
        "apple_price = mul_apple_layer.forward(apple, apple_cnt)\n",
        "price = mul_tax_layer.forward(apple_price, tax)\n",
        "\n",
        "print(\"최종 사과 가격: {:.0f}\".format(price))"
      ],
      "execution_count": null,
      "outputs": [
        {
          "output_type": "stream",
          "text": [
            "최종 사과 가격: 220\n"
          ],
          "name": "stdout"
        }
      ]
    },
    {
      "cell_type": "code",
      "metadata": {
        "id": "PKCCjObC12ly",
        "outputId": "e7666513-3080-4502-fe15-568225562c3d",
        "colab": {
          "base_uri": "https://localhost:8080/"
        }
      },
      "source": [
        "# 최종가격에 대한 미분\n",
        "dprice = 1\n",
        "dapple_price, dtax = mul_tax_layer.backward(dprice)\n",
        "dapple, dapple_cnt = mul_apple_layer.backward(dapple_price)\n",
        "\n",
        "print(\"사과 가격의 미분값: {}\".format(dapple))\n",
        "print(\"사과 갯수의 미분값: {}\".format(dapple_cnt))\n",
        "print(\"소비세의 미분값: {}\".format(dtax))"
      ],
      "execution_count": null,
      "outputs": [
        {
          "output_type": "stream",
          "text": [
            "사과 가격의 미분값: 2.2\n",
            "사과 갯수의 미분값: 110.00000000000001\n",
            "소비세의 미분값: 200\n"
          ],
          "name": "stdout"
        }
      ]
    },
    {
      "cell_type": "code",
      "metadata": {
        "id": "LbtE46B925q-"
      },
      "source": [
        "# 덧셈계층 구현하기\n",
        "\n",
        "# forward : x + y\n",
        "# backward : 뒤에서 보내온 미분값 * 1 ( 모양 맞추려고.. )\n",
        "# 비고 : forward 에서의 입력값을 가지고 있지 않아도 된다. 왜? 역전파 할 때 미분값만 필요하니까!\n",
        "\n",
        "class AddLayer:\n",
        "  def __init__(self):\n",
        "    pass\n",
        "\n",
        "  def forward(self, x, y):\n",
        "    out = x + y\n",
        "    return out\n",
        "\n",
        "  def backward(self, dout):\n",
        "    dx = dout * 1\n",
        "    dy = dout * 1\n",
        "\n",
        "    return dx, dy"
      ],
      "execution_count": null,
      "outputs": []
    },
    {
      "cell_type": "code",
      "metadata": {
        "id": "SJNpOEi-8agt"
      },
      "source": [
        "apple_cnt = 2\n",
        "apple_price = 100\n",
        "\n",
        "orange_price = 150\n",
        "orange_cnt = 3\n",
        "\n",
        "tax = 1.1"
      ],
      "execution_count": null,
      "outputs": []
    },
    {
      "cell_type": "code",
      "metadata": {
        "id": "1C0QYEL18sQE"
      },
      "source": [
        "apple_cnt_layer = MulLayer()\n",
        "orange_cnt_layer = MulLayer()\n",
        "price_layer = AddLayer()\n",
        "total_price_layer = MulLayer()"
      ],
      "execution_count": null,
      "outputs": []
    },
    {
      "cell_type": "code",
      "metadata": {
        "id": "3skaJ2tf886z",
        "outputId": "bbd2e047-d6b7-4749-9585-8f986d4f0676",
        "colab": {
          "base_uri": "https://localhost:8080/"
        }
      },
      "source": [
        "apple_price = apple_cnt_layer.forward(apple_cnt, apple_price)\n",
        "orange_price = orange_cnt_layer.forward(orange_cnt, orange_price)\n",
        "price = price_layer.forward(apple_price, orange_price)\n",
        "total_price = total_price_layer.forward(price, tax)\n",
        "\n",
        "print(\"총 가격: {:.0f}\".format(price))"
      ],
      "execution_count": null,
      "outputs": [
        {
          "output_type": "stream",
          "text": [
            "총 가격: 650\n"
          ],
          "name": "stdout"
        }
      ]
    },
    {
      "cell_type": "code",
      "metadata": {
        "id": "b51o6GIK9jxg",
        "outputId": "f201601f-889a-45e6-ae38-38b26dc0c9ba",
        "colab": {
          "base_uri": "https://localhost:8080/"
        }
      },
      "source": [
        "print(\"총 가격: {:.0f}\".format(total_price))"
      ],
      "execution_count": null,
      "outputs": [
        {
          "output_type": "stream",
          "text": [
            "총 가격: 715\n"
          ],
          "name": "stdout"
        }
      ]
    },
    {
      "cell_type": "code",
      "metadata": {
        "id": "GK-tMQw3_aWM",
        "outputId": "1608bfcd-ef88-4fd7-bf02-772958ec4b4f",
        "colab": {
          "base_uri": "https://localhost:8080/"
        }
      },
      "source": [
        "dprice = 1\n",
        "\n",
        "dtotal_price, dtax = total_price_layer.backward(dprice)\n",
        "dapple_total_price, dorange_total_price = price_layer.backward(dtotal_price)\n",
        "\n",
        "dapple_cnt, dapple_price = apple_cnt_layer.backward(dapple_total_price)\n",
        "dorange_cnt, dorange_price = orange_cnt_layer.backward(dorange_total_price)\n",
        "\n",
        "print(\"사과 갯수 미분: {}\".format(dapple_cnt))\n",
        "print(\"사과 가격 미분: {}\".format(dapple_price))\n",
        "\n",
        "print(\"오렌지 갯수 미분: {}\".format(dorange_cnt))\n",
        "print(\"오렌지 가격 미분: {}\".format(dorange_price))\n",
        "\n",
        "print(\"소비세 미분: {}\".format(dtax))"
      ],
      "execution_count": null,
      "outputs": [
        {
          "output_type": "stream",
          "text": [
            "사과 갯수 미분: 110.00000000000001\n",
            "사과 가격 미분: 2.2\n",
            "오렌지 갯수 미분: 165.0\n",
            "오렌지 가격 미분: 3.3000000000000003\n",
            "소비세 미분: 650\n"
          ],
          "name": "stdout"
        }
      ]
    },
    {
      "cell_type": "markdown",
      "metadata": {
        "id": "KL0if6LlIsW9"
      },
      "source": [
        "# 신경망 레이어 만들기\n",
        "\n",
        "- ReLU\n",
        "- Sigmoid\n",
        "- Affine 레이어 ( 기하학 레이어 - Fully Connected, Dense )\n",
        "- SoftMax + Loss 레이어"
      ]
    },
    {
      "cell_type": "code",
      "metadata": {
        "id": "aOXMdlsABt2F"
      },
      "source": [
        "# 순정파 때 학습이 안된 데이터는, 역전파 때도 신경쓰지 않겠다.\n",
        "# 알아내고자 하는 특징만 강조할 수 있기에 이미지분류에 많이 사용된다.\n",
        "class ReLU:\n",
        "\n",
        "  # 가지고 있어야 할 정보 : 어떤 위치의 x가 0보다 작았나?? ( masking )\n",
        "  def __init__(self):\n",
        "    self.mask = None\n",
        "\n",
        "  def forward(self, x):\n",
        "    self.mask = (x <= 0) # 배열 x에서 어떤 값이 0 또는 음수인지 확인 - 음수인 부분만 True\n",
        "\n",
        "    out = x.copy() # 원본 데이터는 손상되면 안돼요.\n",
        "    out[self.mask] = 0 # 0 또는 음수인 인덱스에 0을 넣는다.\n",
        "\n",
        "    return out\n",
        "\n",
        "  # 순전파 때 0 또는 음수였던 부분을 0으로 만들었다.\n",
        "  # 0 또는 음수였던 인덱스를 기억해놨다가 미분값을 전달 받았을 때 해당 인덱스를 0으로 만든다.\n",
        "  def backward(self, dout):\n",
        "    dout[self.mask] = 0\n",
        "    dx = dout\n",
        "    return dx"
      ],
      "execution_count": null,
      "outputs": []
    },
    {
      "cell_type": "code",
      "metadata": {
        "id": "spwGZFnFNCOh",
        "outputId": "d39a6f31-daec-4904-ad84-473b7f76c771",
        "colab": {
          "base_uri": "https://localhost:8080/"
        }
      },
      "source": [
        "import numpy as np\n",
        "\n",
        "x = np.array([[1.0, -0.5], [-2.0, 3.0]])\n",
        "print(x)"
      ],
      "execution_count": null,
      "outputs": [
        {
          "output_type": "stream",
          "text": [
            "[[ 1.  -0.5]\n",
            " [-2.   3. ]]\n"
          ],
          "name": "stdout"
        }
      ]
    },
    {
      "cell_type": "code",
      "metadata": {
        "id": "2_BYURGXNMTi",
        "outputId": "b2405bcc-b620-4db2-e753-5f3823bab565",
        "colab": {
          "base_uri": "https://localhost:8080/"
        }
      },
      "source": [
        "relu = ReLU()\n",
        "\n",
        "relu.forward(x)"
      ],
      "execution_count": null,
      "outputs": [
        {
          "output_type": "execute_result",
          "data": {
            "text/plain": [
              "array([[1., 0.],\n",
              "       [0., 3.]])"
            ]
          },
          "metadata": {
            "tags": []
          },
          "execution_count": 15
        }
      ]
    },
    {
      "cell_type": "code",
      "metadata": {
        "id": "Ry7BB0oJNVdS",
        "outputId": "051a9e69-f7ca-4955-b012-9a8f1be94134",
        "colab": {
          "base_uri": "https://localhost:8080/"
        }
      },
      "source": [
        "# 마스크 확인\n",
        "relu.mask"
      ],
      "execution_count": null,
      "outputs": [
        {
          "output_type": "execute_result",
          "data": {
            "text/plain": [
              "array([[False,  True],\n",
              "       [ True, False]])"
            ]
          },
          "metadata": {
            "tags": []
          },
          "execution_count": 16
        }
      ]
    },
    {
      "cell_type": "code",
      "metadata": {
        "id": "XQft5GoaNYXr",
        "outputId": "048c9e1b-202b-46c5-9ab4-9c3ff97552f5",
        "colab": {
          "base_uri": "https://localhost:8080/"
        }
      },
      "source": [
        "dx = np.array([[-0.1, 4.0], [1.3, -1.1]])\n",
        "\n",
        "relu.backward(dx)"
      ],
      "execution_count": null,
      "outputs": [
        {
          "output_type": "execute_result",
          "data": {
            "text/plain": [
              "array([[-0.1,  0. ],\n",
              "       [ 0. , -1.1]])"
            ]
          },
          "metadata": {
            "tags": []
          },
          "execution_count": 17
        }
      ]
    },
    {
      "cell_type": "code",
      "metadata": {
        "id": "xWk_sG1tNv-o"
      },
      "source": [
        "class Sigmoid:\n",
        "  def __init__(self):\n",
        "    self.out = None # sigmoid 순전파에서 계산된 값 ( y값 )\n",
        "\n",
        "  def forward(self, x):\n",
        "    out = 1 / (1 + np.exp(-x))\n",
        "    self.out = out\n",
        "\n",
        "    return out\n",
        "\n",
        "  # 시그모이드 함수를 미분하면 : sigmoid * (1 - sigmoid)\n",
        "  def backward(self, dout):\n",
        "    dx = dout * (1.0 - self.out) * self.out\n",
        "    return dx"
      ],
      "execution_count": null,
      "outputs": []
    },
    {
      "cell_type": "code",
      "metadata": {
        "id": "dxRVl7YSP2HO",
        "outputId": "6eac186c-7fd6-4dc0-ba5a-28808ac79138",
        "colab": {
          "base_uri": "https://localhost:8080/"
        }
      },
      "source": [
        "x = np.array([0.991, 0.34, 0.56])\n",
        "sigmoid = Sigmoid()\n",
        "\n",
        "print(sigmoid.forward(x))\n",
        "\n",
        "dout = 1\n",
        "print(sigmoid.backward(dout))"
      ],
      "execution_count": null,
      "outputs": [
        {
          "output_type": "stream",
          "text": [
            "[0.7292854  0.58419052 0.63645254]\n",
            "[0.19742821 0.24291196 0.2313807 ]\n"
          ],
          "name": "stdout"
        }
      ]
    },
    {
      "cell_type": "code",
      "metadata": {
        "id": "Lki4y_pSQVP5",
        "outputId": "7519b5da-5fe5-4125-f67b-027da75cd504",
        "colab": {
          "base_uri": "https://localhost:8080/"
        }
      },
      "source": [
        "# Affine 계층의 순전파\n",
        "# Affine의 핵심은 원본 모양을 가지고 있어야 한다는 것! ( 기하학 변환 )\n",
        "x = np.random.rand(2)\n",
        "W = np.random.rand(2, 3)\n",
        "H = np.random.rand(3)\n",
        "\n",
        "y = np.dot(x, W) + H\n",
        "print(y)"
      ],
      "execution_count": null,
      "outputs": [
        {
          "output_type": "stream",
          "text": [
            "[0.15853231 0.3319097 ]\n",
            "[0.57144708 1.28722861 0.86853127]\n"
          ],
          "name": "stdout"
        }
      ]
    },
    {
      "cell_type": "code",
      "metadata": {
        "id": "sTt0PY8GlKnO",
        "outputId": "bb2df2e2-a68b-422b-a787-30b0c5017acb",
        "colab": {
          "base_uri": "https://localhost:8080/"
        }
      },
      "source": [
        "x.shape, W.shape, H.shape"
      ],
      "execution_count": null,
      "outputs": [
        {
          "output_type": "execute_result",
          "data": {
            "text/plain": [
              "((2,), (2, 3), (3,))"
            ]
          },
          "metadata": {
            "tags": []
          },
          "execution_count": 28
        }
      ]
    },
    {
      "cell_type": "code",
      "metadata": {
        "id": "1qfES1volXaa",
        "outputId": "c14dab81-ff42-4e86-e81c-1754d8863198",
        "colab": {
          "base_uri": "https://localhost:8080/"
        }
      },
      "source": [
        "x_dot_w = np.array([[0, 0, 0], [10, 10, 10]]) # X와 W의 내적 결과\n",
        "B = np.array([1, 2, 3])\n",
        "\n",
        "print(x_dot_w + B) # B에서 브로드캐스팅이 발생"
      ],
      "execution_count": null,
      "outputs": [
        {
          "output_type": "stream",
          "text": [
            "[[ 1  2  3]\n",
            " [11 12 13]]\n"
          ],
          "name": "stdout"
        }
      ]
    },
    {
      "cell_type": "code",
      "metadata": {
        "id": "Vd1pL7Yeorl5",
        "outputId": "3a24b4a4-1e82-44c2-9c23-2ddc29be2360",
        "colab": {
          "base_uri": "https://localhost:8080/"
        }
      },
      "source": [
        "dy = np.array([[1, 2, 3], \n",
        "               [4, 5, 6]]) # 각 배치에 대한 미분값\n",
        "\n",
        "dB = np.sum(dy, axis=0)\n",
        "print(dB)"
      ],
      "execution_count": null,
      "outputs": [
        {
          "output_type": "stream",
          "text": [
            "[5 7 9]\n"
          ],
          "name": "stdout"
        }
      ]
    },
    {
      "cell_type": "code",
      "metadata": {
        "id": "fFcUJ3KsptlP"
      },
      "source": [
        "class Affine:\n",
        "  def __init__(self, w, b):\n",
        "    self.w = w\n",
        "    self.b = b\n",
        "\n",
        "    self.x = None\n",
        "    self.original_x_shape = None\n",
        "\n",
        "    # w, b의 최적화를 위해서 각 매개변수의 미분값을 갖고 있어야 함. ( 가중치와 편향 update )\n",
        "    self.dW = None\n",
        "    self.db = None\n",
        "\n",
        "  def forward(self, x):\n",
        "    # 배치마다의 데이터를 1열로 만듦.\n",
        "    # ex) (2, 2, 2) -> (2, 4)\n",
        "    self.original_x_shape = x.shape\n",
        "    x = x.reshape(x.shape[0], -1) # 첫 번째 : 배치 크기\n",
        "\n",
        "    self.x = x\n",
        "\n",
        "    out = np.dot(self.x, self.w) + self.b\n",
        "    return out\n",
        "\n",
        "  def backward(self, dout):\n",
        "    dx = np.dot(dout, self.w.T)\n",
        "    self.dW = np.dot(self.w.T, dout)\n",
        "    self.db = np.sum(dout, axis=0)\n",
        "\n",
        "    dx = dx.reshape(*self.original_x_shape)\n",
        "    return dx"
      ],
      "execution_count": null,
      "outputs": []
    },
    {
      "cell_type": "code",
      "metadata": {
        "id": "6Q3wpU6Xvhrs"
      },
      "source": [
        "def softmax(x):\n",
        "    if x.ndim == 2:\n",
        "        x = x.T\n",
        "        x = x - np.max(x, axis=0)\n",
        "        y = np.exp(x) / np.sum(np.exp(x), axis=0)\n",
        "        return y.T \n",
        "\n",
        "    x = x - np.max(x) # 오버플로 대책\n",
        "    return np.exp(x) / np.sum(np.exp(x))\n",
        "\n",
        "\n",
        "def cross_entropy_error(y, t):\n",
        "    if y.ndim == 1:\n",
        "        t = t.reshape(1, t.size)\n",
        "        y = y.reshape(1, y.size)\n",
        "        \n",
        "    # 훈련 데이터가 원-핫 벡터라면 정답 레이블의 인덱스로 반환\n",
        "    if t.size == y.size:\n",
        "        t = t.argmax(axis=1)\n",
        "             \n",
        "    batch_size = y.shape[0]\n",
        "    return -np.sum(np.log(y[np.arange(batch_size), t] + 1e-7)) / batch_size\n",
        "\n",
        "# 출력층을 위한 활성화 계층\n",
        "class SoftmaxWithLoss:\n",
        "  def __init__(self):\n",
        "    self.loss = None\n",
        "    self.y = None\n",
        "    self.t = None\n",
        "\n",
        "  def forward(self, x, t):\n",
        "    self.t = t\n",
        "    self.y = softmax(x)\n",
        "    self.loss = cross_entropy_error(self.y, self.t)\n",
        "\n",
        "    return self.loss\n",
        "\n",
        "  def backward(self, dout=1):\n",
        "    batch_size = self.t.shape[0] # x는 계속 바뀌니까..\n",
        "\n",
        "    if self.t.size == self.y.size:\n",
        "      dx = (self.y - self.t) / batch_size\n",
        "\n",
        "    # t가 OneHotEncoding이 안되어 있는 경우\n",
        "    else:\n",
        "      dx = self.y.copy() # 예측값 복사\n",
        "      dx[np.arange(batch_size), self.t] -= 1\n",
        "      dx = dx / batch_size\n",
        "\n",
        "    return dx\n"
      ],
      "execution_count": null,
      "outputs": []
    },
    {
      "cell_type": "code",
      "metadata": {
        "id": "qWsR6W3_5cp-",
        "outputId": "0d4903f4-f27a-4241-c0c1-5688fcef7c30",
        "colab": {
          "base_uri": "https://localhost:8080/"
        }
      },
      "source": [
        "%cd common\n",
        "!unzip common.zip"
      ],
      "execution_count": null,
      "outputs": [
        {
          "output_type": "stream",
          "text": [
            "/content/common\n",
            "Archive:  common.zip\n",
            "  inflating: functions.py            \n",
            "  inflating: gradient.py             \n",
            "  inflating: layers.py               \n",
            "  inflating: multi_layer_net.py      \n",
            "  inflating: multi_layer_net_extend.py  \n",
            "  inflating: optimizer.py            \n",
            "  inflating: trainer.py              \n",
            "  inflating: util.py                 \n",
            " extracting: __init__.py             \n"
          ],
          "name": "stdout"
        }
      ]
    },
    {
      "cell_type": "code",
      "metadata": {
        "id": "oUeo6rha6j_6"
      },
      "source": [
        "# coding: utf-8\n",
        "import sys, os\n",
        "sys.path.append(os.pardir)  # 부모 디렉터리의 파일을 가져올 수 있도록 설정\n",
        "import numpy as np\n",
        "from common.layers import *\n",
        "from common.gradient import numerical_gradient\n",
        "from collections import OrderedDict\n",
        "\n",
        "\n",
        "class TwoLayerNet:\n",
        "\n",
        "    def __init__(self, input_size, hidden_size, output_size, weight_init_std = 0.01):\n",
        "        # 가중치 초기화\n",
        "        self.params = {}\n",
        "        self.params['W1'] = weight_init_std * np.random.randn(input_size, hidden_size)\n",
        "        self.params['b1'] = np.zeros(hidden_size)\n",
        "        self.params['W2'] = weight_init_std * np.random.randn(hidden_size, output_size) \n",
        "        self.params['b2'] = np.zeros(output_size)\n",
        "\n",
        "        # 계층 생성\n",
        "        self.layers = OrderedDict() # 추가되는 데이터의 순서가 유지가 된다.\n",
        "        self.layers['Affine1'] = Affine(self.params['W1'], self.params['b1'])\n",
        "        self.layers['Relu1'] = Relu()\n",
        "        self.layers['Affine2'] = Affine(self.params['W2'], self.params['b2'])\n",
        "\n",
        "        self.lastLayer = SoftmaxWithLoss()\n",
        "        \n",
        "    def predict(self, x):\n",
        "        for layer in self.layers.values():\n",
        "            x = layer.forward(x)\n",
        "        \n",
        "        return x\n",
        "        \n",
        "    # x : 입력 데이터, t : 정답 레이블\n",
        "    def loss(self, x, t):\n",
        "        y = self.predict(x)\n",
        "        return self.lastLayer.forward(y, t)\n",
        "    \n",
        "    def accuracy(self, x, t):\n",
        "        y = self.predict(x)\n",
        "        y = np.argmax(y, axis=1)\n",
        "        if t.ndim != 1 : t = np.argmax(t, axis=1)\n",
        "        \n",
        "        accuracy = np.sum(y == t) / float(x.shape[0])\n",
        "        return accuracy\n",
        "        \n",
        "    # x : 입력 데이터, t : 정답 레이블\n",
        "    def numerical_gradient(self, x, t):\n",
        "        loss_W = lambda W: self.loss(x, t)\n",
        "        \n",
        "        grads = {}\n",
        "        grads['W1'] = numerical_gradient(loss_W, self.params['W1'])\n",
        "        grads['b1'] = numerical_gradient(loss_W, self.params['b1'])\n",
        "        grads['W2'] = numerical_gradient(loss_W, self.params['W2'])\n",
        "        grads['b2'] = numerical_gradient(loss_W, self.params['b2'])\n",
        "        \n",
        "        return grads\n",
        "        \n",
        "    def gradient(self, x, t):\n",
        "        # 순전파\n",
        "        self.loss(x, t)\n",
        "\n",
        "        # 역전파\n",
        "        dout = 1 # 마지막 계층의 미분값 설정\n",
        "        dout = self.lastLayer.backward(dout) # 마지막 계층에서의 미분값 전달 받기 (SoftMaxWithLoss에서 받음)\n",
        "        \n",
        "        layers = list(self.layers.values()) # 저장된 레이어를 불러와서 ( 여기서는 순차적인 레이어가 저장 되어 있음 )\n",
        "        layers.reverse() # 뒤집음(뒤에서 부터 전달해야 하기 때문에 )\n",
        "        \n",
        "        # 뒤에서 부터 역전파\n",
        "        for layer in layers:\n",
        "            dout = layer.backward(dout)\n",
        "\n",
        "        # 결과 저장\n",
        "        grads = {}\n",
        "        grads['W1'], grads['b1'] = self.layers['Affine1'].dW, self.layers['Affine1'].db\n",
        "        grads['W2'], grads['b2'] = self.layers['Affine2'].dW, self.layers['Affine2'].db\n",
        "\n",
        "        return grads"
      ],
      "execution_count": null,
      "outputs": []
    }
  ]
}